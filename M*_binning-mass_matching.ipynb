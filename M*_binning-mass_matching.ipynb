{
 "cells": [
  {
   "cell_type": "code",
   "execution_count": 1,
   "metadata": {
    "collapsed": true
   },
   "outputs": [],
   "source": [
    "# Preamble\n",
    "from astropy.table import Table, column, vstack\n",
    "import numpy as np\n",
    "import os\n",
    "import pandas as pd\n",
    "\n",
    "%matplotlib inline\n",
    "import matplotlib as mpl\n",
    "from matplotlib import pyplot as plt\n",
    "# better-looking plots\n",
    "plt.rcParams['font.family'] = 'serif'\n",
    "plt.rcParams['figure.figsize'] = (10.0, 8)\n",
    "plt.rcParams['font.size'] = 18\n",
    "mpl.ticker.AutoLocator.default_params['nbins'] = 5\n",
    "mpl.ticker.AutoLocator.default_params['prune'] = 'both'\n",
    "\n",
    "mpl.rcParams['ps.useafm'] = True\n",
    "mpl.rcParams['pdf.use14corefonts'] = True\n",
    "mpl.rcParams['text.usetex'] = True\n",
    "\n",
    "import sys\n",
    "sys.path.append('../astro_codes/')"
   ]
  },
  {
   "cell_type": "code",
   "execution_count": 3,
   "metadata": {
    "collapsed": true
   },
   "outputs": [],
   "source": [
    "# load the data\n",
    "ml_data = Table.read('ml_table_matched.fits')\n",
    "gz2_data = Table.read('.././fits/full_sample_debiased_w_low_z_mod.fits')"
   ]
  },
  {
   "cell_type": "code",
   "execution_count": 4,
   "metadata": {
    "collapsed": false
   },
   "outputs": [],
   "source": [
    "def get_gz2_stats(gz2_data,tabulate=True):\n",
    "    m_colnames = ['t11_arms_number_a31_1_debiased_rh',\n",
    "                  't11_arms_number_a32_2_debiased_rh',\n",
    "                  't11_arms_number_a33_3_debiased_rh',\n",
    "                  't11_arms_number_a34_4_debiased_rh',\n",
    "                  't11_arms_number_a36_more_than_4_debiased_rh']\n",
    "    \n",
    "    w_colnames = ['t10_arms_winding_a28_tight_debiased_rh',\n",
    "                  't10_arms_winding_a29_medium_debiased_rh',\n",
    "                  't10_arms_winding_a30_loose_debiased_rh']\n",
    "    \n",
    "    m_array = np.array([gz2_data[column] for column in m_colnames]).T\n",
    "    w_array = np.array([gz2_data[column] for column in w_colnames]).T\n",
    "    m = np.argmax(m_array,axis=1) + 1\n",
    "    w = np.argmax(w_array,axis=1) + 1\n",
    "    m_max = np.max(m_array,axis=1)\n",
    "    w_max = np.max(w_array,axis=1)\n",
    "    def measure_wtd_avg(array):\n",
    "        N_rows, N_columns = np.shape(array)\n",
    "        wtd_avg = np.zeros(N_rows)\n",
    "        for c in range(N_columns):\n",
    "            wtd_avg += array[:,c]*(c+1)\n",
    "        wtd_avg_sum  = np.sum(array,axis=1)\n",
    "        return wtd_avg/wtd_avg_sum\n",
    "    m_wtd_avg = measure_wtd_avg(m_array)\n",
    "    w_wtd_avg = measure_wtd_avg(w_array)\n",
    "    p_bar = gz2_data['t03_bar_a06_bar_debiased_rh']\n",
    "    if tabulate is True:\n",
    "        table = Table(np.array([m,w,m_max,w_max,m_wtd_avg,w_wtd_avg,p_bar]).T,\n",
    "            names=('m','w','m_max','w_max','m_wtd_avg','w_wtd_avg','p_bar'))\n",
    "        return table\n",
    "    else:\n",
    "        return m, w, m_max, w_max ,m_wtd_avg, w_wtd_avg, p_bar"
   ]
  },
  {
   "cell_type": "code",
   "execution_count": 37,
   "metadata": {
    "collapsed": false
   },
   "outputs": [
    {
     "name": "stdout",
     "output_type": "stream",
     "text": [
      "7062 ML-spirals in the Vmax-limited sample!\n"
     ]
    }
   ],
   "source": [
    "in_ml_sample = ml_data['redshift_error_ok']\n",
    "print('{} ML-spirals in the Vmax-limited sample!'.format(in_ml_sample.sum()))"
   ]
  },
  {
   "cell_type": "code",
   "execution_count": 8,
   "metadata": {
    "collapsed": true
   },
   "outputs": [],
   "source": [
    "ml_gz2_stats = get_gz2_stats(gz2_data[in_ml_sample])\n",
    "\n",
    "bar_bins = np.ones(len(ml_gz2_stats))\n",
    "bar_bins[ml_gz2_stats['p_bar'] < 0.5] = 2\n",
    "bar_bins[ml_gz2_stats['p_bar'] < 0.2] = 3\n",
    "ml_gz2_stats['bar_bin'] = bar_bins\n",
    "\n",
    "ml_stats = ml_data[in_ml_sample]"
   ]
  },
  {
   "cell_type": "code",
   "execution_count": 9,
   "metadata": {
    "collapsed": true
   },
   "outputs": [],
   "source": [
    "def weighted_percentile(data, percents, weights=None):\n",
    "    ''' percents in units of 1%\n",
    "    weights specifies the frequency (count) of data.\n",
    "    '''\n",
    "    if weights is None:\n",
    "        return np.percentile(data, percents)\n",
    "    ind=np.argsort(data)\n",
    "    d=data[ind]\n",
    "    w=weights[ind]\n",
    "    p=1.*w.cumsum()/w.sum()*100\n",
    "    y=np.interp(percents, p, d)\n",
    "    return y"
   ]
  },
  {
   "cell_type": "code",
   "execution_count": 10,
   "metadata": {
    "collapsed": false
   },
   "outputs": [],
   "source": [
    "sample_stats = Table()\n",
    "\n",
    "mlabels = ('1','2','3','4','5+')\n",
    "\n",
    "blabels = ('(\\mathrm{all})','(p_\\mathrm{bar} < 0.5)','(p_\\mathrm{bar} < 0.2)')\n",
    "\n",
    "sample_strings = []\n",
    "N_gals = []\n",
    "mass_percentiles = []\n",
    "mass_list = []\n",
    "\n",
    "for b in range(3):\n",
    "    in_bar_bin = ml_gz2_stats['bar_bin'] >= b+1\n",
    "    for m in range(5):\n",
    "        in_m_bin = ml_gz2_stats['m'] == m+1\n",
    "        sample_strings.append('$m={} \\, {}$'.format(mlabels[m],blabels[b]))\n",
    "        \n",
    "        in_mbar = np.all([in_bar_bin,in_m_bin],axis=0)\n",
    "        N_gals.append(in_mbar.sum())\n",
    "        \n",
    "        masses_mb = ml_stats['mass'][in_mbar]\n",
    "        weights_mb = ml_stats['vmax_weight'][in_mbar]\n",
    "        percentiles_mb = weighted_percentile(masses_mb,(5,25,50,75,95),\n",
    "                                             weights_mb)\n",
    "        mass_percentiles.append(percentiles_mb)\n",
    "        mass_list.append(masses_mb)\n",
    "\n",
    "sample_stats['sample'] = sample_strings\n",
    "sample_stats['N_gal'] = N_gals\n",
    "sample_stats['mass_percentiles'] = mass_percentiles"
   ]
  },
  {
   "cell_type": "code",
   "execution_count": 12,
   "metadata": {
    "collapsed": false
   },
   "outputs": [],
   "source": [
    "from match_distributions import match_distributions\n",
    "\n",
    "reference_masses = mass_list[3]\n",
    "masks = []\n",
    "\n",
    "for masses in mass_list:\n",
    "    mask, _ = match_distributions(masses,reference_masses)\n",
    "    masks.append(mask)"
   ]
  },
  {
   "cell_type": "code",
   "execution_count": 13,
   "metadata": {
    "collapsed": false
   },
   "outputs": [],
   "source": [
    "N_gals = []\n",
    "mass_percentiles = []\n",
    "\n",
    "i = 0\n",
    "\n",
    "for b in range(3):\n",
    "    in_bar_bin = ml_gz2_stats['bar_bin'] >= b+1\n",
    "    for m in range(5):\n",
    "        in_m_bin = ml_gz2_stats['m'] == m+1\n",
    "        in_mbar = np.all([in_bar_bin,in_m_bin],axis=0)\n",
    "        \n",
    "        mass_matched = masks[i]\n",
    "        N_gals.append(mass_matched.sum())\n",
    "        masses_mbm = ml_stats['mass'][in_mbar][mass_matched]\n",
    "        weights_mbm = ml_stats['vmax_weight'][in_mbar][mass_matched]\n",
    "        percentiles_mbm = weighted_percentile(masses_mbm,(5,25,50,75,95),\n",
    "                                             weights_mbm)\n",
    "        mass_percentiles.append(percentiles_mbm)\n",
    "        mass_list.append(masses_mbm)\n",
    "        i = i+1\n",
    "        \n",
    "sample_stats['N_gal_matched'] = N_gals\n",
    "sample_stats['mass_percentiles_matched'] = mass_percentiles"
   ]
  },
  {
   "cell_type": "code",
   "execution_count": 14,
   "metadata": {
    "collapsed": true
   },
   "outputs": [],
   "source": [
    "def custom_boxplot(ax,medians,boxes,whiskers,**kwargs):\n",
    "    N_boxes = len(medians)\n",
    "    arbitrary_data = [np.random.randn(100) for n in range(N_boxes)]\n",
    "    bp = ax.boxplot(arbitrary_data,**kwargs)\n",
    "    for n in range(N_boxes):\n",
    "        bp['medians'][n].set_ydata(medians[n])\n",
    "        bp['boxes'][n].set_ydata([boxes[0][n],boxes[0][n],\n",
    "                                  boxes[1][n],boxes[1][n],\n",
    "                                  boxes[0][n]])\n",
    "        bp['whiskers'][2*n].set_ydata([boxes[0][n],whiskers[0][n]])\n",
    "        bp['whiskers'][2*n+1].set_ydata([boxes[1][n],whiskers[1][n]])\n",
    "        bp['caps'][2*n].set_ydata(whiskers[0][n])\n",
    "        bp['caps'][2*n+1].set_ydata(whiskers[1][n])\n",
    "    return None"
   ]
  },
  {
   "cell_type": "code",
   "execution_count": 15,
   "metadata": {
    "collapsed": false
   },
   "outputs": [
    {
     "data": {
      "image/png": "[encoded data removed]",
      "text/plain": [
       "<matplotlib.figure.Figure at 0x2ab757024198>"
      ]
     },
     "metadata": {},
     "output_type": "display_data"
    }
   ],
   "source": [
    "fig, axarr = plt.subplots(2,3,figsize=(20,13.4),\n",
    "                          sharex=True,sharey=True)\n",
    "\n",
    "def percentile_box_plotter(axarr,table,letters='ad',label='All'):\n",
    "    N = len(table)\n",
    "    ax = axarr[0]\n",
    "    mass_percentiles = table['mass_percentiles']\n",
    "    medians = [mass_percentiles[i][2] for i in range(N)]\n",
    "    boxes = [[mass_percentiles[i][1] for i in range(N)],\n",
    "             [mass_percentiles[i][3] for i in range(N)]]\n",
    "    whiskers = [[mass_percentiles[i][0] for i in range(N)],\n",
    "                 [mass_percentiles[i][4] for i in range(N)]]\n",
    "\n",
    "    _ = custom_boxplot(ax,medians,boxes,whiskers,showfliers=False,\n",
    "                       medianprops={'color':'r'})\n",
    "\n",
    "    ax = axarr[1]\n",
    "    mass_percentiles = sample_stats['mass_percentiles_matched']\n",
    "    medians = [mass_percentiles[i][2] for i in range(N)]\n",
    "    boxes = [[mass_percentiles[i][1] for i in range(N)],\n",
    "             [mass_percentiles[i][3] for i in range(N)]]\n",
    "    whiskers = [[mass_percentiles[i][0] for i in range(N)],\n",
    "                [mass_percentiles[i][4] for i in range(N)]]\n",
    "\n",
    "    _ = custom_boxplot(ax,medians,boxes,whiskers,showfliers=False,\n",
    "                       medianprops={'color':'b'})\n",
    "    \n",
    "    _ = axarr[0].text(0.025,0.95,\n",
    "      '({}) {} ($N_\\mathrm{{gal}}$={})'.format(letters[0],label,\n",
    "                                            table['N_gal'].sum()),\n",
    "                  transform=axarr[0].transAxes,ha='left',va='top',\n",
    "                  fontsize=15)\n",
    "    \n",
    "    _ = axarr[1].text(0.025,0.95,\n",
    "      '({}) {} ($N_\\mathrm{{gal}}$={})'.format(letters[1],label,\n",
    "                                            table['N_gal_matched'].sum()),\n",
    "                  transform=axarr[1].transAxes,ha='left',va='top',\n",
    "                  fontsize=15)\n",
    "    return None\n",
    "\n",
    "_ = percentile_box_plotter(axarr[:,0],sample_stats[:5],label='All')\n",
    "_ = percentile_box_plotter(axarr[:,1],sample_stats[5:10],\n",
    "                           label='$p_\\mathrm{bar}<0.5$')\n",
    "_ = percentile_box_plotter(axarr[:,2],sample_stats[10:],\n",
    "                           label='$p_\\mathrm{bar}<0.2$')\n",
    "\n",
    "_ = axarr[0,0].set_ylim(9,11)\n",
    "for ax in axarr[:,-1]:\n",
    "    _ = ax.set_xticklabels(['1','2','3','4','5+'])\n",
    "\n",
    "#fig.tight_layout()\n",
    "fig.subplots_adjust(hspace=0,wspace=0)\n",
    "\n",
    "_ = fig.text(0.5, 0.06, '$m$', ha='center')\n",
    "_ = fig.text(0.06, 0.5, '$\\log(M_*/M_\\odot)$',\n",
    "             va='center', rotation='vertical')\n",
    "\n",
    "fig.savefig('mass_distributions.pdf')"
   ]
  },
  {
   "cell_type": "code",
   "execution_count": 16,
   "metadata": {
    "collapsed": false
   },
   "outputs": [],
   "source": [
    "for column in ml_gz2_stats.colnames:\n",
    "    ml_stats[column] = ml_gz2_stats[column]"
   ]
  },
  {
   "cell_type": "code",
   "execution_count": 19,
   "metadata": {
    "collapsed": false
   },
   "outputs": [],
   "source": [
    "mass_matched_mask = np.zeros(len(ml_stats))\n",
    "\n",
    "i = 0\n",
    "\n",
    "mass_mask_list = [np.zeros(len(ml_stats)),np.zeros(len(ml_stats)),\n",
    "                  np.zeros(len(ml_stats))]\n",
    "\n",
    "for b in range(3):\n",
    "    in_bar_bin = ml_gz2_stats['bar_bin'] >= b+1\n",
    "    for m in range(5):\n",
    "        in_m_bin = ml_gz2_stats['m'] == m+1\n",
    "        mask = masks[i]\n",
    "        in_mbar_bin = np.all([in_m_bin,in_bar_bin],axis=0)\n",
    "        mass_mask_list[b][in_mbar_bin] = mask\n",
    "        i = i+1"
   ]
  },
  {
   "cell_type": "code",
   "execution_count": 34,
   "metadata": {
    "collapsed": false
   },
   "outputs": [],
   "source": [
    "for L, mml in enumerate(mass_mask_list):\n",
    "    ml_stats['mass_matched_{}'.format(L+1)] = np.array(mass_mask_list[L],dtype='bool')\n",
    "    #ml_stats.remove_column('mass_matched_{}'.format(L))# = mass_mask_list[L]"
   ]
  },
  {
   "cell_type": "code",
   "execution_count": 45,
   "metadata": {
    "collapsed": false
   },
   "outputs": [
    {
     "name": "stdout",
     "output_type": "stream",
     "text": [
      "248883 galaxies in the reference catalogue\n",
      "7062 galaxies in the match catalogue\n",
      "---> 7062 matches in total\n",
      "INFO"
     ]
    },
    {
     "name": "stderr",
     "output_type": "stream",
     "text": [
      "INFO:astropy:Upgrading Table to masked Table. Use Table.filled() to convert to unmasked table.\n"
     ]
    },
    {
     "name": "stdout",
     "output_type": "stream",
     "text": [
      ": Upgrading Table to masked Table. Use Table.filled() to convert to unmasked table. [astropy.table.table]\n"
     ]
    }
   ],
   "source": [
    "from combining_catalogues import make_matched_catalogue, match_ids\n",
    "\n",
    "ids_ = match_ids(gz2_data,ml_stats,'dr7objid','dr7id')\n",
    "ml_stats_matched = make_matched_catalogue(gz2_data,ml_stats,ids_)\n",
    "\n",
    "ml_stats_matched['dr7id'] = gz2_data['dr7objid']\n",
    "ml_stats_matched['dr8id'] = gz2_data['dr8objid']\n",
    "\n",
    "ml_stats.write('ml_stats.fits',overwrite=True)\n",
    "ml_stats_matched.write('ml_stats_matched.fits',overwrite=True)"
   ]
  },
  {
   "cell_type": "code",
   "execution_count": null,
   "metadata": {
    "collapsed": true
   },
   "outputs": [],
   "source": []
  }
 ],
 "metadata": {
  "kernelspec": {
   "display_name": "Python 3",
   "language": "python",
   "name": "python3"
  },
  "language_info": {
   "codemirror_mode": {
    "name": "ipython",
    "version": 3
   },
   "file_extension": ".py",
   "mimetype": "text/x-python",
   "name": "python",
   "nbconvert_exporter": "python",
   "pygments_lexer": "ipython3",
   "version": "3.4.5"
  }
 },
 "nbformat": 4,
 "nbformat_minor": 0
}
