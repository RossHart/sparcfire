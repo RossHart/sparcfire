{
 "cells": [
  {
   "cell_type": "code",
   "execution_count": 1,
   "metadata": {
    "collapsed": true
   },
   "outputs": [],
   "source": [
    "# Preamble\n",
    "from astropy.table import Table, column, vstack\n",
    "import numpy as np\n",
    "import os\n",
    "import pandas as pd\n",
    "\n",
    "%matplotlib inline\n",
    "import matplotlib as mpl\n",
    "from matplotlib import pyplot as plt\n",
    "# better-looking plots\n",
    "plt.rcParams['font.family'] = 'serif'\n",
    "plt.rcParams['figure.figsize'] = (10.0, 8)\n",
    "plt.rcParams['font.size'] = 18\n",
    "mpl.ticker.AutoLocator.default_params['nbins'] = 5\n",
    "mpl.ticker.AutoLocator.default_params['prune'] = 'both'\n",
    "\n",
    "mpl.rcParams['ps.useafm'] = True\n",
    "mpl.rcParams['pdf.use14corefonts'] = True\n",
    "mpl.rcParams['text.usetex'] = True\n",
    "\n",
    "import sys\n",
    "sys.path.append('../astro_codes/')"
   ]
  },
  {
   "cell_type": "code",
   "execution_count": 2,
   "metadata": {
    "collapsed": true
   },
   "outputs": [],
   "source": [
    "gz2_data = Table.read('../fits/full_sample_debiased_w_low_z_mod.fits')"
   ]
  },
  {
   "cell_type": "code",
   "execution_count": 3,
   "metadata": {
    "collapsed": false
   },
   "outputs": [],
   "source": [
    "arc_data = Table.read('fits/arc_table_ml.fits')\n",
    "ml_table_matched = Table.read('fits/ml_table_matched.fits')\n",
    "gz2_stats = Table.read('fits/gz2_statistics.fits')"
   ]
  },
  {
   "cell_type": "markdown",
   "metadata": {},
   "source": [
    "#### First task: define the sample:"
   ]
  },
  {
   "cell_type": "code",
   "execution_count": 4,
   "metadata": {
    "collapsed": false
   },
   "outputs": [
    {
     "name": "stdout",
     "output_type": "stream",
     "text": [
      "5688 galaxies in ML sample\n"
     ]
    },
    {
     "name": "stderr",
     "output_type": "stream",
     "text": [
      "/home/ppxrh/anaconda3/lib/python3.4/site-packages/ipykernel/__main__.py:14: FutureWarning: np.average currently does not preserve subclasses, but will do so in the future to match the behavior of most other numpy functions such as np.mean. In particular, this means calls which returned a scalar may return a 0-d subclass object instead.\n"
     ]
    }
   ],
   "source": [
    "def measure_N_detected(ids,arc_data):\n",
    "    N_good = []\n",
    "    pitch_angles = []\n",
    "    for id_ in ids:\n",
    "        arc_row_mask = arc_data['gxyName'] == id_\n",
    "        N_total_id = arc_row_mask.sum()\n",
    "        if N_total_id > 0:\n",
    "            arcs_id = arc_data[arc_row_mask]\n",
    "            good_arcs = arcs_id['p_good_predicted'] == 1\n",
    "            N_good_id = good_arcs.sum()\n",
    "            if N_good_id > 0:\n",
    "                length_weights = arcs_id['arc_length'][good_arcs]\n",
    "                Ps = arcs_id['pitch_angle_absolute'][good_arcs]\n",
    "                pitch_angle = np.average(Ps,weights=length_weights)\n",
    "            else:\n",
    "                pitch_angle = -999\n",
    "            \n",
    "            N_good.append(N_good_id)\n",
    "            pitch_angles.append(pitch_angle)\n",
    "        else:\n",
    "            N_good.append(-999)\n",
    "            pitch_angles.append(-999)\n",
    "    \n",
    "    return np.array(N_good), np.array(pitch_angles)\n",
    "\n",
    "\n",
    "in_ml = ml_table_matched['vmax_ok']\n",
    "print('{} galaxies in ML sample'.format(in_ml.sum()))\n",
    "ml_dr8ids = gz2_data['dr8objid'][in_ml]\n",
    "\n",
    "Ns, psis = measure_N_detected(ml_dr8ids,arc_data)\n",
    "\n",
    "galaxy_level_data = Table()\n",
    "galaxy_level_data['dr8objid'] = ml_dr8ids\n",
    "galaxy_level_data['dr7objid'] = gz2_data['dr7objid'][in_ml]\n",
    "galaxy_level_data['N_arcs'] = Ns\n",
    "galaxy_level_data['P_wtd_avg'] = psis"
   ]
  },
  {
   "cell_type": "code",
   "execution_count": 35,
   "metadata": {
    "collapsed": false
   },
   "outputs": [
    {
     "data": {
      "image/png": "[encoded data removed]",
      "text/plain": [
       "<matplotlib.figure.Figure at 0x2ab3d86706d8>"
      ]
     },
     "metadata": {},
     "output_type": "display_data"
    }
   ],
   "source": [
    "import imp\n",
    "import bin_statistics\n",
    "imp.reload(bin_statistics)\n",
    "\n",
    "from bin_statistics import assign_bins, TableStats\n",
    "mlabels = ('1','2','3','4','5+')\n",
    "\n",
    "in_sparcfire = galaxy_level_data['N_arcs'] >= 0\n",
    "#x = galaxy_level_data['N_arcs'][in_sparcfire]\n",
    "bins = gz2_stats['m'][in_ml][in_sparcfire]\n",
    "has_arcs = galaxy_level_data['N_arcs'][in_sparcfire] > 0\n",
    "\n",
    "f = TableStats(has_arcs,bins).fraction_with_feature()\n",
    "\n",
    "fig = plt.figure(figsize=(10,6))\n",
    "ax = plt.subplot(111)\n",
    "\n",
    "_ = ax.errorbar([1,2,3,4,5],f['f'],yerr=(f['f']-f['f-0.683']),color='g',\n",
    "                marker='o',capsize=2,capthick=3,lw=3)\n",
    "\n",
    "_ = ax.set_ylim(0,1)\n",
    "_ = ax.set_xlim(0.5,5.5)\n",
    "_ = ax.set_xticks([1,2,3,4,5])\n",
    "_ = ax.set_xticklabels(mlabels)\n",
    "_ = ax.set_xlabel('$m$')\n",
    "_ = ax.set_ylabel('$f_\\mathrm{detected}$')"
   ]
  },
  {
   "cell_type": "code",
   "execution_count": 6,
   "metadata": {
    "collapsed": false
   },
   "outputs": [
    {
     "name": "stderr",
     "output_type": "stream",
     "text": [
      "INFO:astropy:Upgrading Table to masked Table. Use Table.filled() to convert to unmasked table.\n"
     ]
    },
    {
     "name": "stdout",
     "output_type": "stream",
     "text": [
      "248883 galaxies in the reference catalogue\n",
      "5688 galaxies in the match catalogue\n",
      "---> 5688 matches in total\n",
      "INFO: Upgrading Table to masked Table. Use Table.filled() to convert to unmasked table. [astropy.table.table]\n"
     ]
    }
   ],
   "source": [
    "from combining_catalogues import match_ids, make_matched_catalogue\n",
    "\n",
    "ids_ = match_ids(gz2_data,galaxy_level_data,'dr7objid','dr7objid')\n",
    "galaxy_level_matched = make_matched_catalogue(gz2_data,galaxy_level_data,\n",
    "                                              ids_)\n",
    "galaxy_level_matched['dr7objid'] = gz2_data['dr7objid']\n",
    "galaxy_level_matched['dr8objid'] = gz2_data['dr8objid']\n",
    "\n",
    "galaxy_level_data.write('fits/galaxy_level_data.fits',overwrite=True)\n",
    "galaxy_level_matched.write('fits/galaxy_level_matched.fits',overwrite=True)"
   ]
  },
  {
   "cell_type": "code",
   "execution_count": null,
   "metadata": {
    "collapsed": true
   },
   "outputs": [],
   "source": []
  }
 ],
 "metadata": {
  "kernelspec": {
   "display_name": "Python 3",
   "language": "python",
   "name": "python3"
  },
  "language_info": {
   "codemirror_mode": {
    "name": "ipython",
    "version": 3
   },
   "file_extension": ".py",
   "mimetype": "text/x-python",
   "name": "python",
   "nbconvert_exporter": "python",
   "pygments_lexer": "ipython3",
   "version": "3.4.5"
  }
 },
 "nbformat": 4,
 "nbformat_minor": 0
}
