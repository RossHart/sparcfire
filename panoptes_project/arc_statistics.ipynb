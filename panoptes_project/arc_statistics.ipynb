{
 "cells": [
  {
   "cell_type": "code",
   "execution_count": 1,
   "metadata": {
    "collapsed": true
   },
   "outputs": [],
   "source": [
    "# Preamble\n",
    "from astropy.table import Table, column, vstack\n",
    "import numpy as np\n",
    "import os\n",
    "import pandas as pd\n",
    "\n",
    "%matplotlib inline\n",
    "import matplotlib as mpl\n",
    "from matplotlib import pyplot as plt\n",
    "# better-looking plots\n",
    "plt.rcParams['font.family'] = 'serif'\n",
    "plt.rcParams['figure.figsize'] = (10.0, 8)\n",
    "plt.rcParams['font.size'] = 18\n",
    "mpl.ticker.AutoLocator.default_params['nbins'] = 5\n",
    "mpl.ticker.AutoLocator.default_params['prune'] = 'both'\n",
    "\n",
    "mpl.rcParams['ps.useafm'] = True\n",
    "mpl.rcParams['pdf.use14corefonts'] = True\n",
    "mpl.rcParams['text.usetex'] = True\n",
    "\n",
    "import sys\n",
    "sys.path.append('../../astro_codes/')"
   ]
  },
  {
   "cell_type": "code",
   "execution_count": 2,
   "metadata": {
    "collapsed": true
   },
   "outputs": [],
   "source": [
    "# Load the *sparcfire* data\n",
    "import pandas as pd\n",
    "sparcfire_r = Table.read('../../sparcfire_directories/r/r.galaxy_matched.fits')\n",
    "sparcfire_r_arcs = pd.read_csv('../../sparcfire_directories/r/r.galaxy_arcs.csv')"
   ]
  },
  {
   "cell_type": "code",
   "execution_count": 3,
   "metadata": {
    "collapsed": false
   },
   "outputs": [
    {
     "name": "stdout",
     "output_type": "stream",
     "text": [
      "500 galaxies in the reference catalogue\n",
      "468 galaxies in the match catalogue\n",
      "---> 457 matches in total\n"
     ]
    }
   ],
   "source": [
    "from combining_catalogues import match_ids, make_matched_catalogue\n",
    "\n",
    "spotter_subjects = Table.read('../../SpiralSpotter/tables/spiral_spotter_sparcfire_subjects.fits')\n",
    "spotter_data = Table.read('../../SpiralSpotter/tables/spiral_spotter_sparcfire_data.fits')\n",
    "\n",
    "matched_rows = match_ids(spotter_subjects,spotter_data,\n",
    "                         'subject_id','subject_id')\n",
    "\n",
    "matched_data = make_matched_catalogue(spotter_subjects,spotter_data,\n",
    "                                      matched_rows)\n",
    "\n",
    "matched_data['dr7id'] = spotter_subjects['dr7objid']\n",
    "matched_data['dr8id'] = spotter_subjects['dr8objid']\n",
    "matched_data.write('spotter_subjects_matched.fits',overwrite=True)\n",
    "spotter_data = matched_data.copy()"
   ]
  },
  {
   "cell_type": "code",
   "execution_count": 4,
   "metadata": {
    "collapsed": false
   },
   "outputs": [
    {
     "data": {
      "image/png": "[encoded data removed]",
      "text/plain": [
       "<matplotlib.figure.Figure at 0x2aea801ddf28>"
      ]
     },
     "metadata": {},
     "output_type": "display_data"
    }
   ],
   "source": [
    "N_ok = []\n",
    "N_classifications = []\n",
    "\n",
    "for N in range(10):\n",
    "    N_ok.append((spotter_data['total'] >= N).sum())\n",
    "    N_classifications.append(N)\n",
    "\n",
    "fig, axarr = plt.subplots(1,2,figsize=(10,5))\n",
    "plt.sca(axarr[0])\n",
    "_ = plt.plot(N_classifications,N_ok,color='k')\n",
    "_ = plt.xlabel('$N_\\mathrm{classifications, \\, min}$')\n",
    "_ = plt.ylabel('$N_\\mathrm{gal}$')\n",
    "\n",
    "class_ok = spotter_data['total'] >= 3\n",
    "plt.sca(axarr[1])\n",
    "_ = plt.hist(spotter_data['total'][class_ok],bins=np.linspace(2.5,9.5,8),\n",
    "             color='k',alpha=0.4)\n",
    "_ = plt.xlabel('$N_\\mathrm{classifications}$')\n",
    "_ = plt.text(0.95,0.95,'$N \\geq{}$ ({} galaxies)'.format(3,class_ok.sum()),\n",
    "             transform=axarr[1].transAxes,ha='right',va='top')\n",
    "\n",
    "spotted_ids = spotter_data['dr8id'][class_ok]\n",
    "spotter_data['class_ok'] = class_ok"
   ]
  },
  {
   "cell_type": "code",
   "execution_count": 5,
   "metadata": {
    "collapsed": true
   },
   "outputs": [],
   "source": [
    "from arc_data import ArcData, ParamikoClient\n",
    "\n",
    "arc_tables = []\n",
    "for id_ in spotted_ids:\n",
    "    arc_tables.append(ArcData(id_).arc_parameters(sparcfire_r_arcs,\n",
    "                                                   sparcfire_r))\n",
    "    \n",
    "arc_table_spotted = vstack(arc_tables)"
   ]
  },
  {
   "cell_type": "code",
   "execution_count": 15,
   "metadata": {
    "collapsed": false
   },
   "outputs": [],
   "source": [
    "def match_arc_scores(arc_table,galaxy_table,\n",
    "                     arc_id='gxyName',galaxy_id='dr8id'):\n",
    "    labels = ('good','poor','weak','extension','junk','missing')\n",
    "    ids = np.unique(arc_table['gxyName'])\n",
    "    N_arc_rows = len(arc_table)\n",
    "    arc_table['total'] = np.zeros(N_arc_rows,dtype=np.int)\n",
    "    for label in labels:\n",
    "        arc_table['p_{}'.format(label)] = np.zeros(N_arc_rows,\n",
    "                                                   dtype=np.float16)\n",
    "    for id_ in ids: \n",
    "        masked_arc_rows = arc_table[arc_id] == id_\n",
    "        masked_galaxy_row = galaxy_table[galaxy_id] == id_\n",
    "        arc_rows = arc_table[masked_arc_rows]\n",
    "        galaxy_row = galaxy_table[masked_galaxy_row]\n",
    "        N_arcs = masked_arc_rows.sum()\n",
    "        \n",
    "        for label in labels:\n",
    "            column_values = []\n",
    "            for n in range(N_arcs):\n",
    "                column_name = 'arc{}_{}_frac'.format(n+1,label)\n",
    "                arc_column_name = 'p_{}'.format(label)\n",
    "                column_values.append(galaxy_row[column_name][0])\n",
    "            arc_table[arc_column_name][masked_arc_rows] = column_values\n",
    "        arc_table['total'][masked_arc_rows] = galaxy_table[masked_galaxy_row]['total']\n",
    "            \n",
    "    return arc_table\n",
    "\n",
    "arc_table_spotted = match_arc_scores(arc_table_spotted,spotter_data)\n",
    "# ^ this table is a table of 'spotted' galaxies with their corresponding \n",
    "# arc p-values from SpiralSpotter"
   ]
  },
  {
   "cell_type": "code",
   "execution_count": 61,
   "metadata": {
    "collapsed": false
   },
   "outputs": [],
   "source": [
    "columns = ('p_good','p_poor','p_weak','p_extension','p_junk','p_missing')\n",
    "N_clicks = []\n",
    "\n",
    "for column in columns:\n",
    "    clicks = arc_table_spotted[column]*arc_table_spotted['total']\n",
    "    clicks = np.round(clicks,decimals=0).astype(np.int)\n",
    "    N_clicks.append(clicks.sum())\n",
    "    \n",
    "N_clicks = np.array(N_clicks)"
   ]
  },
  {
   "cell_type": "code",
   "execution_count": 65,
   "metadata": {
    "collapsed": false
   },
   "outputs": [
    {
     "data": {
      "text/plain": [
       "array([1088,  298,  713,  669, 1175, 2673])"
      ]
     },
     "execution_count": 65,
     "metadata": {},
     "output_type": "execute_result"
    }
   ],
   "source": [
    "class_column = ['good','poor','weak','extension','junk','missing']"
   ]
  },
  {
   "cell_type": "code",
   "execution_count": 81,
   "metadata": {
    "collapsed": false
   },
   "outputs": [],
   "source": [
    "N_arcs = len(arc_table_spotted)\n",
    "arc_array = np.zeros((N_arcs,6))\n",
    "\n",
    "for c, column in enumerate(columns):\n",
    "    arc_array[:,c] = arc_table_spotted[column]\n",
    "    \n",
    "max_list = np.max(arc_array,axis=1)\n",
    "duplicate_max = []\n",
    "for m, max_ in enumerate(max_list):\n",
    "    N_max = np.sum(arc_array[m] == max_)\n",
    "    duplicate_max.append(N_max > 1)\n",
    "duplicate_max = np.array(duplicate_max)\n",
    "arc_class = np.argmax(arc_array,axis=1) + 1\n",
    "arc_class[duplicate_max] = 0"
   ]
  },
  {
   "cell_type": "code",
   "execution_count": 98,
   "metadata": {
    "collapsed": true
   },
   "outputs": [],
   "source": [
    "from tabulate import tabulate\n",
    "\n",
    "click_strings = ['{} ({}%)'.format(N_clicks[c],np.round(100*N_clicks[c]/N_clicks.sum(),decimals=1)) \n",
    "                 for c in range(6)]\n",
    "\n",
    "class_strings = ['{} ({}%)'.format((arc_class == c+1).sum(),\n",
    "                                   np.round(100*(arc_class == c+1).sum()/len(arc_class),decimals=1))\n",
    "                for c in range(6)]\n",
    "\n",
    "print_array = np.array([columns,click_strings,class_strings]).T\n"
   ]
  },
  {
   "cell_type": "code",
   "execution_count": 105,
   "metadata": {
    "collapsed": false
   },
   "outputs": [],
   "source": [
    "spotter_print_table = tabulate(print_array,\n",
    "                headers=('class','N_\\mathrm{clicks}','N_\\mathrm{arcs}'),\n",
    "                               tablefmt='latex')"
   ]
  },
  {
   "cell_type": "code",
   "execution_count": 106,
   "metadata": {
    "collapsed": false
   },
   "outputs": [
    {
     "name": "stdout",
     "output_type": "stream",
     "text": [
      "\\begin{tabular}{lll}\n",
      "\\hline\n",
      " class       & N\\_\\textbackslash{}mathrm\\{clicks\\}   & N\\_\\textbackslash{}mathrm\\{arcs\\}   \\\\\n",
      "\\hline\n",
      " p\\_good      & 1088 (16.4\\%)        & 244 (15.1\\%)       \\\\\n",
      " p\\_poor      & 298 (4.5\\%)          & 17 (1.1\\%)         \\\\\n",
      " p\\_weak      & 713 (10.8\\%)         & 85 (5.3\\%)         \\\\\n",
      " p\\_extension & 669 (10.1\\%)         & 104 (6.4\\%)        \\\\\n",
      " p\\_junk      & 1175 (17.8\\%)        & 190 (11.8\\%)       \\\\\n",
      " p\\_missing   & 2673 (40.4\\%)        & 678 (41.9\\%)       \\\\\n",
      "\\hline\n",
      "\\end{tabular}\n"
     ]
    }
   ],
   "source": [
    "print(spotter_print_table)"
   ]
  },
  {
   "cell_type": "code",
   "execution_count": null,
   "metadata": {
    "collapsed": true
   },
   "outputs": [],
   "source": []
  }
 ],
 "metadata": {
  "kernelspec": {
   "display_name": "Python 3",
   "language": "python",
   "name": "python3"
  },
  "language_info": {
   "codemirror_mode": {
    "name": "ipython",
    "version": 3
   },
   "file_extension": ".py",
   "mimetype": "text/x-python",
   "name": "python",
   "nbconvert_exporter": "python",
   "pygments_lexer": "ipython3",
   "version": "3.4.5"
  }
 },
 "nbformat": 4,
 "nbformat_minor": 0
}
