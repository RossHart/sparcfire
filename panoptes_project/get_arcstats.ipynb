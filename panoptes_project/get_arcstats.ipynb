{
 "cells": [
  {
   "cell_type": "code",
   "execution_count": 1,
   "metadata": {
    "collapsed": true
   },
   "outputs": [],
   "source": [
    "# Preamble\n",
    "from astropy.table import Table, column\n",
    "import numpy as np\n",
    "import os\n",
    "\n",
    "%matplotlib inline\n",
    "import matplotlib as mpl\n",
    "from matplotlib import pyplot as plt\n",
    "# better-looking plots\n",
    "plt.rcParams['font.family'] = 'serif'\n",
    "plt.rcParams['figure.figsize'] = (10.0, 8)\n",
    "plt.rcParams['font.size'] = 18\n",
    "mpl.ticker.AutoLocator.default_params['nbins'] = 5\n",
    "mpl.ticker.AutoLocator.default_params['prune'] = 'both'\n",
    "\n",
    "mpl.rcParams['ps.useafm'] = True\n",
    "mpl.rcParams['pdf.use14corefonts'] = True\n",
    "mpl.rcParams['text.usetex'] = True\n",
    "\n",
    "import sys\n",
    "sys.path.append('../../astro_codes/')"
   ]
  },
  {
   "cell_type": "code",
   "execution_count": 2,
   "metadata": {
    "collapsed": true
   },
   "outputs": [],
   "source": [
    "import pandas as pd\n",
    "sparcfire_r_arcs = pd.read_csv('../../sparcfire_directories/r/r.galaxy_arcs.csv') # individual arc data"
   ]
  },
  {
   "cell_type": "code",
   "execution_count": 3,
   "metadata": {
    "collapsed": true
   },
   "outputs": [],
   "source": [
    "sparcfire_r = Table.read('../../sparcfire_directories/r/r.galaxy_matched.fits')"
   ]
  },
  {
   "cell_type": "code",
   "execution_count": 29,
   "metadata": {
    "collapsed": true
   },
   "outputs": [],
   "source": [
    "ids = Table.read('panoptes_images/spiral_table.fits')\n",
    "\n",
    "id0 = ids[0]['dr8id']"
   ]
  },
  {
   "cell_type": "code",
   "execution_count": 35,
   "metadata": {
    "collapsed": false
   },
   "outputs": [],
   "source": [
    "def get_arcs(id_,arc_data,galaxy_data,N_arcs=8):\n",
    "    arc_rows = arc_data[arc_data['gxyName'] == id_].sort_values('alenRank')\n",
    "    galaxy_row = galaxy_data[galaxy_data['name'] == id_]\n",
    "    galaxy_chirality = galaxy_row['chirality_wtdPangSum'][0]\n",
    "    if len(arc_rows > N_arcs):\n",
    "        arc_rows = arc_rows[:N_arcs]\n",
    "    \n",
    "    empty_frame = pd.DataFrame()\n",
    "    if galaxy_chirality is 'Swise':\n",
    "        empty_frame['chirality_agreement'] = arc_rows['pitch_angle'] >= 0\n",
    "    else:\n",
    "        empty_frame['chirality_agreement'] = arc_rows['pitch_angle'] < 0\n",
    "    empty_frame['length'] = arc_rows['arc_length']\n",
    "    empty_frame['pitch_angle'] = np.absolute(arc_rows['pitch_angle'])\n",
    "    empty_frame['delta_r'] = np.absolute(arc_rows['r_start'] - arc_rows['r_end'])\n",
    "    empty_frame['r_start'] = arc_rows['r_start']\n",
    "    empty_frame['r_end'] = arc_rows['r_end']\n",
    "    empty_frame['delta_theta'] = arc_rows['relative_theta_end']\n",
    "    empty_frame['N_pixels'] = arc_rows['num_pixels']\n",
    "    return empty_frame"
   ]
  },
  {
   "cell_type": "code",
   "execution_count": 36,
   "metadata": {
    "collapsed": false
   },
   "outputs": [],
   "source": [
    "_ = get_arcs(id0,sparcfire_r_arcs,sparcfire_r)"
   ]
  },
  {
   "cell_type": "code",
   "execution_count": 1,
   "metadata": {
    "collapsed": false
   },
   "outputs": [
    {
     "ename": "NameError",
     "evalue": "name 'id0' is not defined",
     "output_type": "error",
     "traceback": [
      "\u001b[1;31m---------------------------------------------------------------------------\u001b[0m",
      "\u001b[1;31mNameError\u001b[0m                                 Traceback (most recent call last)",
      "\u001b[1;32m<ipython-input-1-35fb7960f3e2>\u001b[0m in \u001b[0;36m<module>\u001b[1;34m()\u001b[0m\n\u001b[1;32m----> 1\u001b[1;33m \u001b[0mid0\u001b[0m\u001b[1;33m\u001b[0m\u001b[0m\n\u001b[0m",
      "\u001b[1;31mNameError\u001b[0m: name 'id0' is not defined"
     ]
    }
   ],
   "source": [
    "id0"
   ]
  },
  {
   "cell_type": "code",
   "execution_count": null,
   "metadata": {
    "collapsed": true
   },
   "outputs": [],
   "source": []
  }
 ],
 "metadata": {
  "kernelspec": {
   "display_name": "Python 3",
   "language": "python",
   "name": "python3"
  },
  "language_info": {
   "codemirror_mode": {
    "name": "ipython",
    "version": 3
   },
   "file_extension": ".py",
   "mimetype": "text/x-python",
   "name": "python",
   "nbconvert_exporter": "python",
   "pygments_lexer": "ipython3",
   "version": "3.4.5"
  }
 },
 "nbformat": 4,
 "nbformat_minor": 0
}
