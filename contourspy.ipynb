{
 "cells": [
  {
   "cell_type": "code",
   "execution_count": 1,
   "metadata": {
    "collapsed": true
   },
   "outputs": [],
   "source": [
    "# Preamble\n",
    "\n",
    "from astropy.table import Table, column\n",
    "import numpy as np\n",
    "import os\n",
    "\n",
    "%matplotlib inline\n",
    "import matplotlib as mpl\n",
    "from matplotlib import pyplot as plt\n",
    "# better-looking plots\n",
    "plt.rcParams['font.family'] = 'serif'\n",
    "plt.rcParams['figure.figsize'] = (10.0, 8)\n",
    "plt.rcParams['font.size'] = 18\n",
    "mpl.ticker.AutoLocator.default_params['nbins'] = 5\n",
    "mpl.ticker.AutoLocator.default_params['prune'] = 'both'\n",
    "\n",
    "mpl.rcParams['ps.useafm'] = True\n",
    "mpl.rcParams['pdf.use14corefonts'] = True\n",
    "mpl.rcParams['text.usetex'] = True"
   ]
  },
  {
   "cell_type": "code",
   "execution_count": 22,
   "metadata": {
    "collapsed": false
   },
   "outputs": [],
   "source": [
    "x = np.random.randn(300) + 2\n",
    "y = np.random.randn(300)*2\n",
    "z = x**2 + np.random.randn(300)\n",
    "\n",
    "### re-write the contour methods for 'easier' access:"
   ]
  },
  {
   "cell_type": "code",
   "execution_count": 13,
   "metadata": {
    "collapsed": true
   },
   "outputs": [],
   "source": [
    "# 'shared' methods: cv, plotting etc.\n",
    "\n",
    "\n",
    "def scale_data(data):\n",
    "    data_mean = np.mean(data)\n",
    "    data_std = np.std(data)\n",
    "    data_scaled = (data-data_mean)/data_std\n",
    "    return data_scaled, data_mean, data_std\n",
    "\n",
    "\n",
    "def unscale_data(data_scaled,data_mean,data_std):\n",
    "    data_unscaled = data_scaled*data_std + data_mean\n",
    "    return data_unscaled\n",
    "\n",
    "\n",
    "def find_best_param(data,params,n_folds=5):\n",
    "    N_params = len(params)\n",
    "    param_grid = cross_validate(data,bandwidths,n_folds)\n",
    "    i_best = find_nearest_index(bandwidths,best_bandwidth)\n",
    "    if i_best == 0:\n",
    "        bandwidth_lower_bound = bandwidths[0] - (bandwidths[1]-bandwidths[0])\n",
    "    else:\n",
    "        bandwidth_lower_bound = bandwidths[i_best-1]  \n",
    "    if i_best == N_bandwidths-1:\n",
    "        bandwidth_upper_bound = bandwidths[-1] + (bandwidths[-1]-bandwidths[-2])\n",
    "    else:\n",
    "        bandwidth_upper_bound = bandwidths[i_best+1]\n",
    "    bandwidth_range = (bandwidth_lower_bound,bandwidth_upper_bound)\n",
    "    return best_bandwidth, bandwidth_range"
   ]
  },
  {
   "cell_type": "code",
   "execution_count": 29,
   "metadata": {
    "collapsed": true
   },
   "outputs": [],
   "source": [
    "x = np.random.randn(300) + 2\n",
    "y = np.random.randn(300)*2\n",
    "z = x**2 + np.random.randn(300)"
   ]
  },
  {
   "cell_type": "code",
   "execution_count": 64,
   "metadata": {
    "collapsed": false
   },
   "outputs": [],
   "source": [
    "from sklearn.model_selection import KFold, GridSearchCV\n",
    "from sklearn.neighbors import KernelDensity\n",
    "from sklearn.kernel_ridge import KernelRidge \n",
    "\n",
    "class cross_validate():\n",
    "    \n",
    "    def __init__(self,method,params,\n",
    "                 n_folds=3):\n",
    "        self.method = method\n",
    "        self.params = params\n",
    "        self.key = list(params.keys())[0]\n",
    "        self.values = params[list(params.keys())[0]]\n",
    "    \n",
    "    def best_index(self,data):\n",
    "        kf = KFold(n_splits=n_folds,random_state=0)\n",
    "        grid = GridSearchCV(method,params,cv=kf)\n",
    "        grid.fit(data)\n",
    "        return grid.best_index_\n",
    "    \n",
    "    def paramater_range(self,data):\n",
    "        N_params = len(self.params)\n",
    "        index = best_index(self,data)\n",
    "        if index == 0:\n",
    "            lower_bound = self.values[0] - (self.values[1]\n",
    "                                            -self.values[0])\n",
    "        else:\n",
    "            lower_bound = self.values[index-1]\n",
    "        if index == N_bandwidths-1:\n",
    "            upper_bound = self.values[-1] + (self.values[-1]\n",
    "                                             -self.values[-2])\n",
    "        else:\n",
    "            upper_bound = self.values[index+1] \n",
    "        return lower_bound_upper_bound\n",
    "    \n",
    "    def best_value(self,data):\n",
    "        \n",
    "        \n",
    "        \n",
    "\n",
    "\n",
    "\n",
    "\n",
    "def reduce_param_range(params):\n",
    "    N_params = len(bandwidths)\n",
    "    best_index, _ = cross_validate(data,params,method,n_folds)\n",
    "    if i_best == 0:\n",
    "        bandwidth_lower_bound = bandwidths[0] - (bandwidths[1]-bandwidths[0])\n",
    "    else:\n",
    "        bandwidth_lower_bound = bandwidths[i_best-1]  \n",
    "    if i_best == N_bandwidths-1:\n",
    "        bandwidth_upper_bound = bandwidths[-1] + (bandwidths[-1]-bandwidths[-2])\n",
    "    else:\n",
    "        bandwidth_upper_bound = bandwidths[i_best+1]\n",
    "    bandwidth_range = (bandwidth_lower_bound,bandwidth_upper_bound)\n",
    "    return best_bandwidth, bandwidth_range\n",
    "\n",
    "grid = cross_validate(np.array([x,y]).T,{'bandwidth':np.logspace(-2,1,10)},KernelDensity())"
   ]
  },
  {
   "cell_type": "code",
   "execution_count": 60,
   "metadata": {
    "collapsed": false
   },
   "outputs": [],
   "source": [
    "class plot_contour():\n",
    "    def __init__(self,linecolor='k',linealpha=1,linewidth=1,linestyle=1,\n",
    "                 colormap='Greys',fillalpha=1):\n",
    "        self.linecolor = linecolor\n",
    "        self.linealpha = linealpha\n",
    "        self.linewidth = linewidth\n",
    "        self.linestyle = linestyle\n",
    "        self.colormap = colormap\n",
    "        self.fillalpha = fillalpha\n",
    "        self.zorder = 0\n",
    "        \n",
    "    def fill(self,x_grid,y_grid,H,V):\n",
    "        f = plt.contourf(x_grid,y_grid,H,levels=np.append(V,np.max(H)),\n",
    "                         cmap=self.colormap,alpha=self.fillalpha,\n",
    "                         zorder=self.zorder)\n",
    "        return f\n",
    "    \n",
    "    def lines(self,x_grid,y_grid,H,V):\n",
    "        l = plt.contour(x_grid,y_grid,H,levels=V,\n",
    "                        linewidths=self.linewidth,colors=self.linecolor,\n",
    "                        linestyles=self.linestyle,alpha=self.linealpha,\n",
    "                        zorder=self.zorder)\n",
    "        return l\n",
    "        \n",
    "    def linefill(self,x_grid,y_grid,H,V):\n",
    "        f = plt.contourf(x_grid,y_grid,H,levels=np.append(V,np.max(H)),\n",
    "                         cmap=self.colormap,alpha=self.fillalpha,\n",
    "                         zorder=self.zorder)\n",
    "        l = plt.contour(x_grid,y_grid,H,levels=V,\n",
    "                        linewidths=self.linewidth,colors=self.linecolor,\n",
    "                        linestyles=self.linestyle,alpha=self.linealpha,\n",
    "                        zorder=self.zorder)\n",
    "        return f, l"
   ]
  },
  {
   "cell_type": "code",
   "execution_count": 84,
   "metadata": {
    "collapsed": false
   },
   "outputs": [
    {
     "name": "stdout",
     "output_type": "stream",
     "text": [
      "bandwidth\n"
     ]
    }
   ],
   "source": [
    "params = {'bandwidth':[1,2,3,4]}\n",
    "for p in params.keys():\n",
    "    print(p)"
   ]
  },
  {
   "cell_type": "code",
   "execution_count": 95,
   "metadata": {
    "collapsed": false
   },
   "outputs": [
    {
     "ename": "SyntaxError",
     "evalue": "can use starred expression only as assignment target (<ipython-input-95-a2f03345a757>, line 1)",
     "output_type": "error",
     "traceback": [
      "\u001b[1;36m  File \u001b[1;32m\"<ipython-input-95-a2f03345a757>\"\u001b[1;36m, line \u001b[1;32m1\u001b[0m\n\u001b[1;33m    *x\u001b[0m\n\u001b[1;37m      ^\u001b[0m\n\u001b[1;31mSyntaxError\u001b[0m\u001b[1;31m:\u001b[0m can use starred expression only as assignment target\n"
     ]
    }
   ],
   "source": [
    "*x"
   ]
  },
  {
   "cell_type": "code",
   "execution_count": null,
   "metadata": {
    "collapsed": true
   },
   "outputs": [],
   "source": []
  }
 ],
 "metadata": {
  "kernelspec": {
   "display_name": "Python 3",
   "language": "python",
   "name": "python3"
  },
  "language_info": {
   "codemirror_mode": {
    "name": "ipython",
    "version": 3
   },
   "file_extension": ".py",
   "mimetype": "text/x-python",
   "name": "python",
   "nbconvert_exporter": "python",
   "pygments_lexer": "ipython3",
   "version": "3.4.4"
  }
 },
 "nbformat": 4,
 "nbformat_minor": 0
}
