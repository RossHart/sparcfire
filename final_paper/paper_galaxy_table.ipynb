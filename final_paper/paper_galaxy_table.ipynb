{
 "cells": [
  {
   "cell_type": "code",
   "execution_count": 1,
   "metadata": {
    "collapsed": true
   },
   "outputs": [],
   "source": [
    "# Preamble\n",
    "from astropy.table import Table, column, vstack\n",
    "import numpy as np\n",
    "import os\n",
    "import pandas as pd\n",
    "\n",
    "%matplotlib inline\n",
    "import matplotlib as mpl\n",
    "from matplotlib import pyplot as plt\n",
    "# better-looking plots\n",
    "plt.rcParams['font.family'] = 'serif'\n",
    "plt.rcParams['figure.figsize'] = (10.0, 8)\n",
    "plt.rcParams['font.size'] = 18\n",
    "mpl.ticker.AutoLocator.default_params['nbins'] = 5\n",
    "mpl.ticker.AutoLocator.default_params['prune'] = 'both'\n",
    "\n",
    "mpl.rcParams['ps.useafm'] = True\n",
    "mpl.rcParams['pdf.use14corefonts'] = True\n",
    "mpl.rcParams['text.usetex'] = True\n",
    "\n",
    "import sys\n",
    "sys.path.append('../astro_codes/')"
   ]
  },
  {
   "cell_type": "code",
   "execution_count": 2,
   "metadata": {
    "collapsed": true
   },
   "outputs": [],
   "source": [
    "gz2_data = Table.read('../../fits/full_sample_debiased_w_low_z_mod.fits')"
   ]
  },
  {
   "cell_type": "code",
   "execution_count": 73,
   "metadata": {
    "collapsed": true
   },
   "outputs": [],
   "source": [
    "mass_masks_matched = Table.read('../fits/mass_masks_matched.fits')\n",
    "mendel_matched = Table.read('../fits/mendel_matched.fits')\n",
    "gz2_stats = Table.read('../fits/gz2_statistics.fits')\n",
    "ml_table_matched = Table.read('../fits/ml_table_matched.fits')\n",
    "sparcfire_stats = Table.read('../fits/galaxy_level_matched.fits')"
   ]
  },
  {
   "cell_type": "code",
   "execution_count": 4,
   "metadata": {
    "collapsed": false
   },
   "outputs": [],
   "source": [
    "sample_ok = ml_table_matched['vmax_ok']\n",
    "sparcfire_ok = sparcfire_stats['N_arcs'] >= 1 "
   ]
  },
  {
   "cell_type": "code",
   "execution_count": 156,
   "metadata": {
    "collapsed": false
   },
   "outputs": [],
   "source": [
    "from tabulate import tabulate\n",
    "\n",
    "category_list = [r'spiral (all)',\n",
    "                 r'$m=1$ (all)',\n",
    "                 r'$m=2$ (all)',\n",
    "                 r'$m=3$ (all)',\n",
    "                 r'$m=4$ (all)',\n",
    "                 r'$m=5+$ (all)',\n",
    "                 r'spiral ($p_\\mathrm{bar} \\leq 0.2$)',\n",
    "                 r'$m=1$ ($p_\\mathrm{bar} \\leq 0.2$)',\n",
    "                 r'$m=2$ ($p_\\mathrm{bar} \\leq 0.2$)',\n",
    "                 r'$m=3$ ($p_\\mathrm{bar} \\leq 0.2$)',\n",
    "                 r'$m=4$ ($p_\\mathrm{bar} \\leq 0.2$)*',\n",
    "                 r'$m=5+$ ($p_\\mathrm{bar} \\leq 0.2$)',\n",
    "                 r'spiral ($0.2 < p_\\mathrm{bar} \\leq 0.5$)',\n",
    "                 r'$m=1$ ($0.2 < p_\\mathrm{bar} \\leq 0.5$)',\n",
    "                 r'$m=2$ ($0.2 < p_\\mathrm{bar} \\leq 0.5$)',\n",
    "                 r'$m=3$ ($0.2 < p_\\mathrm{bar} \\leq 0.5$)',\n",
    "                 r'$m=4$ ($0.2 < p_\\mathrm{bar} \\leq 0.5$)',\n",
    "                 r'$m=5+$ ($0.2 < p_\\mathrm{bar} \\leq 0.5$)',\n",
    "                 r'spiral ($p_\\mathrm{bar} > 0.5$)',\n",
    "                 r'$m=1$ ($p_\\mathrm{bar} > 0.5$)',\n",
    "                 r'$m=2$ ($p_\\mathrm{bar} > 0.5$)',\n",
    "                 r'$m=3$ ($p_\\mathrm{bar} > 0.5$)',\n",
    "                 r'$m=4$ ($p_\\mathrm{bar} > 0.5$)',\n",
    "                 r'$m=5+$ ($p_\\mathrm{bar} > 0.5$)']\n",
    "\n",
    "\n",
    "gz2_stats['p_bar'] = gz2_data['t03_bar_a06_bar_debiased_rh']\n",
    "bar_masks = [gz2_stats['p_bar'] <= 0.2,\n",
    "             (gz2_stats['p_bar'] > 0.2) & (gz2_stats['p_bar'] <= 0.5),\n",
    "             gz2_stats['p_bar'] > 0.5]\n",
    "\n",
    "names_ = mass_masks_matched.colnames[3:]\n",
    "\n",
    "masks = []\n",
    "# -------------------------------------------------------\n",
    "masks.append(np.any([mass_masks_matched[c] == 1\n",
    "                     for c in names_],axis=0))\n",
    "for m in range(5):\n",
    "    masks.append(np.any([mass_masks_matched[names_[m_]] == 1\n",
    "                        for m_ in [m,m+5,m+10]],axis=0))\n",
    "# -------------------------------------------------------\n",
    "masks.append(np.any([mass_masks_matched[c] == 1\n",
    "                     for c in names_[:5]],axis=0))\n",
    "for m in range(5):\n",
    "    masks.append(mass_masks_matched[names_[m]] == 1)\n",
    "# -------------------------------------------------------\n",
    "masks.append(np.any([mass_masks_matched[c] == 1\n",
    "                     for c in names_[5:10]],axis=0))\n",
    "for m in range(5):\n",
    "    masks.append(mass_masks_matched[names_[m+5]] == 1)\n",
    "# -------------------------------------------------------\n",
    "masks.append(np.any([mass_masks_matched[c] == 1\n",
    "                     for c in names_[10:]],axis=0))\n",
    "for m in range(5):\n",
    "    masks.append(mass_masks_matched[names_[m+10]] == 1)\n",
    "# -------------------------------------------------------\n",
    "\n",
    "\n",
    "# -------------------------------------------------------\n",
    "all_masks = []\n",
    "all_masks.append(sample_ok)\n",
    "for m in range(5):\n",
    "    all_masks.append(np.all([sample_ok,gz2_stats['m'] == m+1],axis=0))\n",
    "# -------------------------------------------------------\n",
    "bar_ok = np.all([bar_masks[0],sample_ok],axis=0)\n",
    "all_masks.append(bar_ok)\n",
    "for m in range(5):\n",
    "    all_masks.append(np.all([bar_ok,gz2_stats['m'] == m+1],axis=0))\n",
    "# -------------------------------------------------------\n",
    "bar_ok = np.all([bar_masks[1],sample_ok],axis=0)\n",
    "all_masks.append(bar_ok)\n",
    "for m in range(5):\n",
    "    all_masks.append(np.all([bar_ok,gz2_stats['m'] == m+1],axis=0))\n",
    "# -------------------------------------------------------\n",
    "bar_ok = np.all([bar_masks[2],sample_ok],axis=0)\n",
    "all_masks.append(bar_ok)\n",
    "for m in range(5):\n",
    "    all_masks.append(np.all([bar_ok,gz2_stats['m'] == m+1],axis=0))\n",
    "# -------------------------------------------------------"
   ]
  },
  {
   "cell_type": "code",
   "execution_count": 157,
   "metadata": {
    "collapsed": false
   },
   "outputs": [],
   "source": [
    "def get_strings(masses,in_sparcfire,mask1,mask2):\n",
    "    N = (mask1.sum(), np.all([mask1,in_sparcfire],axis=0).sum())\n",
    "    N_string = '{} ({}%)'.format(N[0],np.round(100*N[1]/N[0],decimals=1))\n",
    "    \n",
    "    N_matched = (np.all([mask1,mask2],axis=0).sum(), \n",
    "                 np.all([mask1,mask2,in_sparcfire],axis=0).sum())\n",
    "    N_string_matched = '{} ({}%)'.format(N_matched[0],\n",
    "                np.round(100*N_matched[1]/N_matched[0],decimals=1))\n",
    "    \n",
    "    mass_percentiles = np.percentile(masses[mask1],(50,16,84))\n",
    "    mass_string = '{} ({}, {})'.format(\n",
    "        *np.round(mass_percentiles,decimals=2))\n",
    "    mass_percentiles_matched = np.percentile(masses[(mask1) & (mask2)],\n",
    "                                             (50,16,84))\n",
    "    mass_string_matched = '{} ({}, {})'.format(\n",
    "        *np.round(mass_percentiles_matched,decimals=2))\n",
    "    return N_string, mass_string, N_string_matched, mass_string_matched"
   ]
  },
  {
   "cell_type": "code",
   "execution_count": 160,
   "metadata": {
    "collapsed": false
   },
   "outputs": [],
   "source": [
    "table_array = np.full((24,5),'--',dtype='U100')\n",
    "table_array[:,0] = category_list\n",
    "\n",
    "for i, (mask, all_mask) in enumerate(zip(masks,all_masks)):\n",
    "\n",
    "    table_strings = get_strings(mendel_matched['bulge+disc'],\n",
    "                                sparcfire_ok,all_mask,mask)\n",
    "    table_array[i,1:] = table_strings\n",
    "    \n",
    "headers = [r'subsample',r'$N$ (all)',r'$\\log(M_*/M_\\odot)$ (all)',\n",
    "           r'$N$ ($M_*$-matched)',r'$\\log(M_*/M_\\odot)$ ($M_*$-matched)']\n",
    "\n",
    "\n",
    "def tabulator(table_array,headers):\n",
    "    text_table = tabulate(table_array,headers=headers,tablefmt='latex')\n",
    "    text_table = text_table.replace('textbackslash{}','')\n",
    "    text_table = text_table.replace('\\$','$')\n",
    "    text_table = text_table.replace('\\{','{')\n",
    "    text_table = text_table.replace('\\}','}')\n",
    "    text_table = text_table.replace('\\_','_')\n",
    "    text_table = text_table.replace('\\ensuremath{<}','<')\n",
    "    text_table = text_table.replace('\\ensuremath{>}','>')\n",
    "    text_table = text_table.replace('\\\\%','\\%')\n",
    "    return text_table\n",
    "\n",
    "text_table = tabulator(table_array,headers)"
   ]
  },
  {
   "cell_type": "code",
   "execution_count": 161,
   "metadata": {
    "collapsed": false
   },
   "outputs": [
    {
     "name": "stdout",
     "output_type": "stream",
     "text": [
      "\\begin{tabular}{lllll}\n",
      "\\hline\n",
      " subsample                                & $N$ (all)    & $\\log(M_*/M_\\odot)$ (all)   & $N$ ($M_*$-matched)   & $\\log(M_*/M_\\odot)$ ($M_*$-matched)   \\\\\n",
      "\\hline\n",
      " spiral (all)                             & 6222 (48.7\\%) & 10.27 (9.89, 10.64)         & 4908 (48.2\\%)          & 10.26 (9.92, 10.58)                   \\\\\n",
      " $m=1$ (all)                              & 243 (25.9\\%)  & 10.18 (9.78, 10.57)         & 151 (20.5\\%)           & 10.25 (9.92, 10.56)                   \\\\\n",
      " $m=2$ (all)                              & 4014 (46.6\\%) & 10.26 (9.88, 10.63)         & 3208 (45.6\\%)          & 10.26 (9.93, 10.58)                   \\\\\n",
      " $m=3$ (all)                              & 1108 (56.9\\%) & 10.32 (9.93, 10.66)         & 876 (57.5\\%)           & 10.25 (9.91, 10.56)                   \\\\\n",
      " $m=4$ (all)                              & 405 (54.6\\%)  & 10.31 (9.93, 10.67)         & 337 (55.5\\%)           & 10.26 (9.92, 10.56)                   \\\\\n",
      " $m=5+$ (all)                             & 452 (53.8\\%)  & 10.27 (9.88, 10.62)         & 336 (53.3\\%)           & 10.24 (9.93, 10.57)                   \\\\\n",
      " spiral ($p_\\mathrm{bar} \\leq 0.2$)       & 2237 (48.4\\%) & 10.23 (9.89, 10.56)         & 1920 (47.6\\%)          & 10.26 (9.92, 10.57)                   \\\\\n",
      " $m=1$ ($p_\\mathrm{bar} \\leq 0.2$)        & 135 (20.7\\%)  & 10.18 (9.76, 10.54)         & 93 (16.1\\%)            & 10.3 (9.98, 10.58)                    \\\\\n",
      " $m=2$ ($p_\\mathrm{bar} \\leq 0.2$)        & 1034 (46.9\\%) & 10.19 (9.87, 10.53)         & 879 (44.7\\%)           & 10.25 (9.91, 10.57)                   \\\\\n",
      " $m=3$ ($p_\\mathrm{bar} \\leq 0.2$)        & 570 (53.5\\%)  & 10.27 (9.93, 10.58)         & 514 (54.1\\%)           & 10.26 (9.93, 10.57)                   \\\\\n",
      " $m=4$ ($p_\\mathrm{bar} \\leq 0.2$)*       & 221 (52.0\\%)  & 10.26 (9.93, 10.59)         & 221 (52.0\\%)           & 10.26 (9.93, 10.59)                   \\\\\n",
      " $m=5+$ ($p_\\mathrm{bar} \\leq 0.2$)       & 277 (53.8\\%)  & 10.25 (9.88, 10.58)         & 213 (53.1\\%)           & 10.27 (9.93, 10.58)                   \\\\\n",
      " spiral ($0.2 < p_\\mathrm{bar} \\leq 0.5$) & 1858 (50.4\\%) & 10.25 (9.89, 10.61)         & 1554 (50.3\\%)          & 10.25 (9.93, 10.56)                   \\\\\n",
      " $m=1$ ($0.2 < p_\\mathrm{bar} \\leq 0.5$)  & 79 (27.8\\%)   & 10.24 (9.81, 10.6)          & 43 (27.9\\%)            & 10.24 (9.87, 10.5)                    \\\\\n",
      " $m=2$ ($0.2 < p_\\mathrm{bar} \\leq 0.5$)  & 1226 (48.2\\%) & 10.23 (9.89, 10.57)         & 1081 (47.5\\%)          & 10.26 (9.94, 10.57)                   \\\\\n",
      " $m=3$ ($0.2 < p_\\mathrm{bar} \\leq 0.5$)  & 330 (60.0\\%)  & 10.34 (9.94, 10.65)         & 256 (60.2\\%)           & 10.27 (9.89, 10.56)                   \\\\\n",
      " $m=4$ ($0.2 < p_\\mathrm{bar} \\leq 0.5$)  & 115 (59.1\\%)  & 10.32 (9.9, 10.66)          & 88 (61.4\\%)            & 10.26 (9.91, 10.51)                   \\\\\n",
      " $m=5+$ ($0.2 < p_\\mathrm{bar} \\leq 0.5$) & 108 (53.7\\%)  & 10.27 (9.91, 10.61)         & 86 (54.7\\%)            & 10.21 (9.92, 10.52)                   \\\\\n",
      " spiral ($p_\\mathrm{bar} > 0.5$)          & 2127 (47.4\\%) & 10.35 (9.89, 10.72)         & 1434 (46.7\\%)          & 10.26 (9.92, 10.6)                    \\\\\n",
      " $m=1$ ($p_\\mathrm{bar} > 0.5$)           & 29 (44.8\\%)   & 10.17 (9.83, 10.82)         & 15 (26.7\\%)            & 10.08 (9.89, 10.43)                   \\\\\n",
      " $m=2$ ($p_\\mathrm{bar} > 0.5$)           & 1754 (45.3\\%) & 10.33 (9.88, 10.69)         & 1248 (44.6\\%)          & 10.27 (9.93, 10.6)                    \\\\\n",
      " $m=3$ ($p_\\mathrm{bar} > 0.5$)           & 208 (61.1\\%)  & 10.51 (9.99, 10.8)          & 106 (67.9\\%)           & 10.2 (9.9, 10.54)                     \\\\\n",
      " $m=4$ ($p_\\mathrm{bar} > 0.5$)           & 69 (55.1\\%)   & 10.6 (9.96, 10.81)          & 28 (64.3\\%)            & 10.18 (9.87, 10.51)                   \\\\\n",
      " $m=5+$ ($p_\\mathrm{bar} > 0.5$)          & 67 (53.7\\%)   & 10.38 (9.85, 10.75)         & 37 (51.4\\%)            & 10.24 (9.92, 10.66)                   \\\\\n",
      "\\hline\n",
      "\\end{tabular}\n"
     ]
    }
   ],
   "source": [
    "print(text_table)"
   ]
  },
  {
   "cell_type": "code",
   "execution_count": 125,
   "metadata": {
    "collapsed": false
   },
   "outputs": [
    {
     "data": {
      "text/plain": [
       "150687"
      ]
     },
     "execution_count": 125,
     "metadata": {},
     "output_type": "execute_result"
    }
   ],
   "source": [
    "bar_masks[0].sum()"
   ]
  },
  {
   "cell_type": "code",
   "execution_count": null,
   "metadata": {
    "collapsed": true
   },
   "outputs": [],
   "source": []
  }
 ],
 "metadata": {
  "kernelspec": {
   "display_name": "Python 3",
   "language": "python",
   "name": "python3"
  },
  "language_info": {
   "codemirror_mode": {
    "name": "ipython",
    "version": 3
   },
   "file_extension": ".py",
   "mimetype": "text/x-python",
   "name": "python",
   "nbconvert_exporter": "python",
   "pygments_lexer": "ipython3",
   "version": "3.4.5"
  }
 },
 "nbformat": 4,
 "nbformat_minor": 0
}
