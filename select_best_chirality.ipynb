{
 "cells": [
  {
   "cell_type": "code",
   "execution_count": 1,
   "metadata": {
    "collapsed": true
   },
   "outputs": [],
   "source": [
    "# Preamble\n",
    "from astropy.table import Table, column\n",
    "import numpy as np\n",
    "import os\n",
    "\n",
    "%matplotlib inline\n",
    "import matplotlib as mpl\n",
    "from matplotlib import pyplot as plt\n",
    "# better-looking plots\n",
    "plt.rcParams['font.family'] = 'serif'\n",
    "plt.rcParams['figure.figsize'] = (10.0, 8)\n",
    "plt.rcParams['font.size'] = 18\n",
    "mpl.ticker.AutoLocator.default_params['nbins'] = 5\n",
    "mpl.ticker.AutoLocator.default_params['prune'] = 'both'\n",
    "\n",
    "mpl.rcParams['ps.useafm'] = True\n",
    "mpl.rcParams['pdf.use14corefonts'] = True\n",
    "mpl.rcParams['text.usetex'] = True\n",
    "\n",
    "import sys\n",
    "sys.path.append('../astro_codes/')"
   ]
  },
  {
   "cell_type": "markdown",
   "metadata": {},
   "source": [
    "#### First task is to load all of the data we require"
   ]
  },
  {
   "cell_type": "code",
   "execution_count": 2,
   "metadata": {
    "collapsed": false
   },
   "outputs": [],
   "source": [
    "gz1_data = Table.read('../fits/GZ1/gz1_matched.fits')\n",
    "p_cw = gz1_data['p_cw']/(gz1_data['p_ccw']+gz1_data['p_cw'])"
   ]
  },
  {
   "cell_type": "code",
   "execution_count": 3,
   "metadata": {
    "collapsed": false
   },
   "outputs": [],
   "source": [
    "sparcfire_r = Table.read('../sparcfire_directories/r/r.galaxy_matched.fits') # sparcfire data\n",
    "ml_table_matched = Table.read('fits/ml_table_matched.fits')\n",
    "\n",
    "#sparcfire_g = Table.read('../sparcfire_directories/g/g.galaxy_matched.fits')\n",
    "#g_ok = Table.read('g_vs_r/g_ok.fits')"
   ]
  },
  {
   "cell_type": "code",
   "execution_count": 4,
   "metadata": {
    "collapsed": false
   },
   "outputs": [
    {
     "name": "stdout",
     "output_type": "stream",
     "text": [
      "4801 ML-limited spirals in the 1/Vmax sample!\n",
      "+ 4779 in GZ1\n",
      "+ 3967 w. agreement > 0.8\n"
     ]
    }
   ],
   "source": [
    "in_gz1 = (gz1_data['N_spiral'] >= 5) #& (gz1_data['strong_agreement'])\n",
    "good_agreement = np.any([p_cw < 0.2,p_cw > 0.8],axis=0).T\n",
    "\n",
    "sample_ok = np.all([ml_table_matched['vmax_ok'],\n",
    "                    sparcfire_r['fit_state'] == 'OK'],axis=0)\n",
    "print('{} ML-limited spirals in the 1/Vmax sample!'.format(sample_ok.sum()))\n",
    "\n",
    "gz1_spirals = np.all([in_gz1,sample_ok],axis=0)\n",
    "gz1_spirals_best = np.all([gz1_spirals,good_agreement],axis=0)\n",
    "print('+ {} in GZ1'.format(gz1_spirals.sum()))\n",
    "print('+ {} w. agreement > 0.8'.format(gz1_spirals_best.sum()))"
   ]
  },
  {
   "cell_type": "code",
   "execution_count": 5,
   "metadata": {
    "collapsed": false
   },
   "outputs": [
    {
     "name": "stdout",
     "output_type": "stream",
     "text": [
      "--------\n",
      "chirality_maj:\n",
      "3703/4779 galaxies agree (77.5%)\n",
      "3285/3967 \"best\" galaxies agree (82.8%)\n",
      "--------\n",
      "chirality_alenWtd:\n",
      "4112/4779 galaxies agree (86.0%)\n",
      "3669/3967 \"best\" galaxies agree (92.5%)\n",
      "--------\n",
      "chirality_wtdPangSum:\n",
      "4102/4779 galaxies agree (85.8%)\n",
      "3676/3967 \"best\" galaxies agree (92.7%)\n",
      "--------\n",
      "chirality_longestArc:\n",
      "3959/4779 galaxies agree (82.8%)\n",
      "3534/3967 \"best\" galaxies agree (89.1%)\n"
     ]
    }
   ],
   "source": [
    "chi_gz1 = (gz1_data['chirality'] == 'Swise').astype(int)\n",
    "\n",
    "chirality_columns = ['chirality_maj',\n",
    "                     'chirality_alenWtd',\n",
    "                     'chirality_wtdPangSum',\n",
    "                     'chirality_longestArc']\n",
    "\n",
    "for column in chirality_columns:\n",
    "    chi_sparcfire = (sparcfire_r[column] == 'Zwise').astype(int)\n",
    "    chi_agree = chi_gz1 == chi_sparcfire\n",
    "    gz1_agree = chi_agree[gz1_spirals]\n",
    "    gz1_agree_best = chi_agree[gz1_spirals_best]\n",
    "    print('--------')\n",
    "    print(column+':')\n",
    "    print('{}/{} galaxies agree ({}%)'.format(gz1_agree.sum(),gz1_agree.size,\n",
    "                                              np.round(gz1_agree.sum()/gz1_agree.size*100,decimals=1)))\n",
    "    print('{}/{} \"best\" galaxies agree ({}%)'.format(gz1_agree_best.sum(),gz1_agree_best.size,\n",
    "                                                     np.round(gz1_agree_best.sum()/gz1_agree_best.size*100,decimals=1)))"
   ]
  },
  {
   "cell_type": "code",
   "execution_count": 6,
   "metadata": {
    "collapsed": false
   },
   "outputs": [
    {
     "data": {
      "text/plain": [
       "0.9954176213288898"
      ]
     },
     "execution_count": 6,
     "metadata": {},
     "output_type": "execute_result"
    }
   ],
   "source": [
    "4779/4801"
   ]
  },
  {
   "cell_type": "code",
   "execution_count": null,
   "metadata": {
    "collapsed": true
   },
   "outputs": [],
   "source": []
  }
 ],
 "metadata": {
  "kernelspec": {
   "display_name": "Python 3",
   "language": "python",
   "name": "python3"
  },
  "language_info": {
   "codemirror_mode": {
    "name": "ipython",
    "version": 3
   },
   "file_extension": ".py",
   "mimetype": "text/x-python",
   "name": "python",
   "nbconvert_exporter": "python",
   "pygments_lexer": "ipython3",
   "version": "3.4.5"
  }
 },
 "nbformat": 4,
 "nbformat_minor": 0
}
