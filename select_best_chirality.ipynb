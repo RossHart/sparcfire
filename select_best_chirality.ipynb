{
 "cells": [
  {
   "cell_type": "code",
   "execution_count": 1,
   "metadata": {
    "collapsed": true
   },
   "outputs": [],
   "source": [
    "# Preamble\n",
    "from astropy.table import Table, column\n",
    "import numpy as np\n",
    "import os\n",
    "\n",
    "%matplotlib inline\n",
    "import matplotlib as mpl\n",
    "from matplotlib import pyplot as plt\n",
    "# better-looking plots\n",
    "plt.rcParams['font.family'] = 'serif'\n",
    "plt.rcParams['figure.figsize'] = (10.0, 8)\n",
    "plt.rcParams['font.size'] = 18\n",
    "mpl.ticker.AutoLocator.default_params['nbins'] = 5\n",
    "mpl.ticker.AutoLocator.default_params['prune'] = 'both'\n",
    "\n",
    "mpl.rcParams['ps.useafm'] = True\n",
    "mpl.rcParams['pdf.use14corefonts'] = True\n",
    "mpl.rcParams['text.usetex'] = True\n",
    "\n",
    "import sys\n",
    "sys.path.append('../astro_codes/')"
   ]
  },
  {
   "cell_type": "markdown",
   "metadata": {},
   "source": [
    "### First task is to load all of the data we require"
   ]
  },
  {
   "cell_type": "code",
   "execution_count": 2,
   "metadata": {
    "collapsed": false
   },
   "outputs": [],
   "source": [
    "gz1_data = Table.read('../fits/GZ1/gz1_matched.fits')\n",
    "p_cw = gz1_data['p_cw']/(gz1_data['p_ccw']+gz1_data['p_cw'])"
   ]
  },
  {
   "cell_type": "code",
   "execution_count": 4,
   "metadata": {
    "collapsed": false
   },
   "outputs": [],
   "source": [
    "sparcfire_r = Table.read('../sparcfire_directories/r/r.galaxy_matched.fits') # sparcfire data\n",
    "#sparcfire_g = Table.read('../sparcfire_directories/g/g.galaxy_matched.fits')\n",
    "sparcfire_samples = Table.read('../fits/sparcfire/sparcfire_samples.fits')\n",
    "g_ok = Table.read('g_vs_r/g_ok.fits')"
   ]
  },
  {
   "cell_type": "code",
   "execution_count": 5,
   "metadata": {
    "collapsed": false
   },
   "outputs": [
    {
     "name": "stdout",
     "output_type": "stream",
     "text": [
      "3109 spirals in sparcfire!\n",
      "+ 3085 in GZ1\n",
      "+ 2979 w. agreement > 0.8\n"
     ]
    }
   ],
   "source": [
    "in_gz1 = (gz1_data['N_spiral'] >= 5) #& (gz1_data['strong_agreement'])\n",
    "good_agreement = np.any([p_cw < 0.2,p_cw > 0.8],axis=0).T\n",
    "\n",
    "spiral_sample = np.all([sparcfire_samples['in_sparcfire'],sparcfire_samples['axial_ok'],\n",
    "                        sparcfire_samples['in_mass_limit'],sparcfire_samples['in_spiral']],\n",
    "                       axis=0)\n",
    "                        #g_ok['ok']],axis=0)\n",
    "\n",
    "print('{} spirals in sparcfire!'.format(spiral_sample.sum()))\n",
    "\n",
    "gz1_spirals = np.all([in_gz1,spiral_sample],axis=0)\n",
    "gz1_spirals_best = np.all([gz1_spirals,good_agreement],axis=0)\n",
    "print('+ {} in GZ1'.format(gz1_spirals.sum()))\n",
    "print('+ {} w. agreement > 0.8'.format(gz1_spirals_best.sum()))"
   ]
  },
  {
   "cell_type": "code",
   "execution_count": 7,
   "metadata": {
    "collapsed": false
   },
   "outputs": [
    {
     "name": "stdout",
     "output_type": "stream",
     "text": [
      "--------\n",
      "chirality_maj:\n",
      "2542/3085 galaxies agree (82.4%)\n",
      "2475/2979 \"best\" galaxies agree (83.1%)\n",
      "--------\n",
      "chirality_alenWtd:\n",
      "2746/3085 galaxies agree (89.0%)\n",
      "2680/2979 \"best\" galaxies agree (90.0%)\n",
      "--------\n",
      "chirality_wtdPangSum:\n",
      "2795/3085 galaxies agree (90.6%)\n",
      "2723/2979 \"best\" galaxies agree (91.4%)\n",
      "--------\n",
      "chirality_longestArc:\n",
      "2641/3085 galaxies agree (85.6%)\n",
      "2577/2979 \"best\" galaxies agree (86.5%)\n"
     ]
    }
   ],
   "source": [
    "#from sklearn.metrics import matthews_corrcoef\n",
    "#from scipy.stats import pearsonr\n",
    "chi_gz1 = (gz1_data['chirality'] == 'Swise').astype(int)\n",
    "\n",
    "chirality_columns = ['chirality_maj',\n",
    "                     'chirality_alenWtd',\n",
    "                     'chirality_wtdPangSum',\n",
    "                     'chirality_longestArc']\n",
    "\n",
    "for column in chirality_columns:\n",
    "    chi_sparcfire = (sparcfire_r[column] == 'Zwise').astype(int)\n",
    "    chi_agree = chi_gz1 == chi_sparcfire\n",
    "    gz1_agree = chi_agree[gz1_spirals]\n",
    "    gz1_agree_best = chi_agree[gz1_spirals_best]\n",
    "    print('--------')\n",
    "    print(column+':')\n",
    "    print('{}/{} galaxies agree ({}%)'.format(gz1_agree.sum(),gz1_agree.size,\n",
    "                                              np.round(gz1_agree.sum()/gz1_agree.size*100,decimals=1)))\n",
    "    print('{}/{} \"best\" galaxies agree ({}%)'.format(gz1_agree_best.sum(),gz1_agree_best.size,\n",
    "                                                     np.round(gz1_agree_best.sum()/gz1_agree_best.size*100,decimals=1)))"
   ]
  },
  {
   "cell_type": "code",
   "execution_count": null,
   "metadata": {
    "collapsed": true
   },
   "outputs": [],
   "source": []
  }
 ],
 "metadata": {
  "kernelspec": {
   "display_name": "Python 3",
   "language": "python",
   "name": "python3"
  },
  "language_info": {
   "codemirror_mode": {
    "name": "ipython",
    "version": 3
   },
   "file_extension": ".py",
   "mimetype": "text/x-python",
   "name": "python",
   "nbconvert_exporter": "python",
   "pygments_lexer": "ipython3",
   "version": "3.4.5"
  }
 },
 "nbformat": 4,
 "nbformat_minor": 0
}
