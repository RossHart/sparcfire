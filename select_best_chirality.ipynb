{
 "cells": [
  {
   "cell_type": "code",
   "execution_count": 1,
   "metadata": {
    "collapsed": true
   },
   "outputs": [],
   "source": [
    "# Preamble\n",
    "from astropy.table import Table, column\n",
    "import numpy as np\n",
    "import os\n",
    "\n",
    "%matplotlib inline\n",
    "import matplotlib as mpl\n",
    "from matplotlib import pyplot as plt\n",
    "# better-looking plots\n",
    "plt.rcParams['font.family'] = 'serif'\n",
    "plt.rcParams['figure.figsize'] = (10.0, 8)\n",
    "plt.rcParams['font.size'] = 18\n",
    "mpl.ticker.AutoLocator.default_params['nbins'] = 5\n",
    "mpl.ticker.AutoLocator.default_params['prune'] = 'both'\n",
    "\n",
    "mpl.rcParams['ps.useafm'] = True\n",
    "mpl.rcParams['pdf.use14corefonts'] = True\n",
    "mpl.rcParams['text.usetex'] = True"
   ]
  },
  {
   "cell_type": "code",
   "execution_count": null,
   "metadata": {
    "collapsed": true
   },
   "outputs": [],
   "source": [
    "import sys\n",
    "sys.path.append('../astro_codes/')"
   ]
  },
  {
   "cell_type": "markdown",
   "metadata": {},
   "source": [
    "### First task is to load all of the data we require"
   ]
  },
  {
   "cell_type": "code",
   "execution_count": 3,
   "metadata": {
    "collapsed": true
   },
   "outputs": [],
   "source": [
    "gz1_data = Table.read('../sparcfire/matched_fits/gz1_matched.fits')"
   ]
  },
  {
   "cell_type": "code",
   "execution_count": 6,
   "metadata": {
    "collapsed": false
   },
   "outputs": [],
   "source": [
    "p_cw = gz1_data['p_cw']/(gz1_data['p_ccw']+gz1_data['p_cw'])"
   ]
  },
  {
   "cell_type": "code",
   "execution_count": 8,
   "metadata": {
    "collapsed": true
   },
   "outputs": [],
   "source": [
    "sparcfire_g = Table.read('../sparcfire_directories/main/sparcfire_g_matched.fits') # sparcfire data"
   ]
  },
  {
   "cell_type": "code",
   "execution_count": 11,
   "metadata": {
    "collapsed": true
   },
   "outputs": [],
   "source": [
    "samples = Table.read('../fits/SF_fits/samples.fits') # samples (eg. spirals)"
   ]
  },
  {
   "cell_type": "code",
   "execution_count": 75,
   "metadata": {
    "collapsed": false
   },
   "outputs": [],
   "source": [
    "in_gz1 = (gz1_data['N_spiral'] >= 5) #& (gz1_data['strong_agreement'])\n",
    "in_sparcfire = sparcfire_g['fit_state'] == 'OK'\n",
    "in_both = (in_gz1) & (in_sparcfire)"
   ]
  },
  {
   "cell_type": "code",
   "execution_count": 70,
   "metadata": {
    "collapsed": false
   },
   "outputs": [
    {
     "name": "stdout",
     "output_type": "stream",
     "text": [
      "2193 spirals in the GZ1-SpArcFiRe sample\n"
     ]
    }
   ],
   "source": [
    "in_spiral = (samples['all_spiral']) & (samples['in_mass_limit'])\n",
    "in_sample = ((in_spiral) & (in_both))\n",
    "\n",
    "print('{} spirals in the GZ1-SpArcFiRe sample'.format(in_sample.sum()))"
   ]
  },
  {
   "cell_type": "code",
   "execution_count": 71,
   "metadata": {
    "collapsed": false
   },
   "outputs": [],
   "source": [
    "gz1_chirality = (gz1_data['chirality'] == 'Swise').astype(int)"
   ]
  },
  {
   "cell_type": "code",
   "execution_count": 78,
   "metadata": {
    "collapsed": false
   },
   "outputs": [
    {
     "name": "stdout",
     "output_type": "stream",
     "text": [
      "1803/2193 galaxies agree (82.21614227086184%)\n",
      "MCC = 0.6492811793320883\n",
      "-------------\n",
      "1896/2193 galaxies agree (86.45690834473324%)\n",
      "MCC = 0.7289681318472171\n",
      "-------------\n",
      "1925/2193 galaxies agree (87.77929776561787%)\n",
      "MCC = 0.755700730871876\n",
      "-------------\n",
      "1795/2193 galaxies agree (81.85134518923849%)\n",
      "MCC = 0.6365566230253211\n",
      "-------------\n"
     ]
    }
   ],
   "source": [
    "from sklearn.metrics import matthews_corrcoef\n",
    "from scipy.stats import pearsonr\n",
    "\n",
    "chirality_columns = ['chirality_maj',\n",
    "                     'chirality_alenWtd',\n",
    "                     'chirality_wtdPangSum',\n",
    "                     'chirality_longestArc']\n",
    "\n",
    "chi_gz1 = gz1_chirality[in_sample]\n",
    "\n",
    "for column in chirality_columns:\n",
    "    chi_sparcfire = (sparcfire_g[column][in_sample] == 'Z-wise').astype(int)\n",
    "    agree = chi_gz1 == chi_sparcfire\n",
    "    print('{}/{} galaxies agree ({}%)'.format(agree.sum(),agree.size,\n",
    "                                              agree.sum()/agree.size*100))\n",
    "    #print('p = {}'.format(pearsonr(chi_sparcfire,chi_gz1)))\n",
    "    print('MCC = {}'.format(matthews_corrcoef(chi_sparcfire,chi_gz1)))\n",
    "    print('-------------')\n",
    "    "
   ]
  },
  {
   "cell_type": "code",
   "execution_count": 68,
   "metadata": {
    "collapsed": false
   },
   "outputs": [
    {
     "data": {
      "text/plain": [
       "0.8836668217775709"
      ]
     },
     "execution_count": 68,
     "metadata": {},
     "output_type": "execute_result"
    }
   ],
   "source": [
    "1899/2149"
   ]
  },
  {
   "cell_type": "code",
   "execution_count": null,
   "metadata": {
    "collapsed": true
   },
   "outputs": [],
   "source": []
  }
 ],
 "metadata": {
  "kernelspec": {
   "display_name": "Python 3",
   "language": "python",
   "name": "python3"
  },
  "language_info": {
   "codemirror_mode": {
    "name": "ipython",
    "version": 3
   },
   "file_extension": ".py",
   "mimetype": "text/x-python",
   "name": "python",
   "nbconvert_exporter": "python",
   "pygments_lexer": "ipython3",
   "version": "3.4.4"
  }
 },
 "nbformat": 4,
 "nbformat_minor": 0
}
