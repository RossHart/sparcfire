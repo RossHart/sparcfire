{
 "cells": [
  {
   "cell_type": "code",
   "execution_count": 1,
   "metadata": {
    "collapsed": true
   },
   "outputs": [],
   "source": [
    "# Preamble\n",
    "from astropy.table import Table, column\n",
    "import numpy as np\n",
    "import os\n",
    "\n",
    "%matplotlib inline\n",
    "import matplotlib as mpl\n",
    "from matplotlib import pyplot as plt\n",
    "# better-looking plots\n",
    "plt.rcParams['font.family'] = 'serif'\n",
    "plt.rcParams['figure.figsize'] = (10.0, 8)\n",
    "plt.rcParams['font.size'] = 18\n",
    "mpl.ticker.AutoLocator.default_params['nbins'] = 5\n",
    "mpl.ticker.AutoLocator.default_params['prune'] = 'both'\n",
    "\n",
    "mpl.rcParams['ps.useafm'] = True\n",
    "mpl.rcParams['pdf.use14corefonts'] = True\n",
    "mpl.rcParams['text.usetex'] = True\n",
    "\n",
    "import sys\n",
    "sys.path.append('../astro_codes/')"
   ]
  },
  {
   "cell_type": "markdown",
   "metadata": {},
   "source": [
    "### First task is to load all of the data we require"
   ]
  },
  {
   "cell_type": "code",
   "execution_count": 2,
   "metadata": {
    "collapsed": false
   },
   "outputs": [],
   "source": [
    "gz1_data = Table.read('../fits/GZ1/gz1_matched.fits')\n",
    "\n",
    "p_cw = gz1_data['p_cw']/(gz1_data['p_ccw']+gz1_data['p_cw'])"
   ]
  },
  {
   "cell_type": "code",
   "execution_count": 3,
   "metadata": {
    "collapsed": false
   },
   "outputs": [],
   "source": [
    "sparcfire_g = Table.read('../sparcfire_directories/main/sparcfire_g_matched.fits') # sparcfire data"
   ]
  },
  {
   "cell_type": "code",
   "execution_count": 5,
   "metadata": {
    "collapsed": true
   },
   "outputs": [],
   "source": [
    "samples = Table.read('../fits/SF_fits/samples.fits') # samples (eg. spirals)\n",
    "mendel_masses = Table.read('../fits/Simard+Mendel/mendel_masses.fits')"
   ]
  },
  {
   "cell_type": "code",
   "execution_count": 17,
   "metadata": {
    "collapsed": false
   },
   "outputs": [
    {
     "data": {
      "text/plain": [
       "True"
      ]
     },
     "execution_count": 17,
     "metadata": {},
     "output_type": "execute_result"
    }
   ],
   "source": [
    "good_agreement"
   ]
  },
  {
   "cell_type": "code",
   "execution_count": 28,
   "metadata": {
    "collapsed": false
   },
   "outputs": [
    {
     "name": "stdout",
     "output_type": "stream",
     "text": [
      "3051 spirals in the GZ1-SpArcFiRe sample\n",
      "+ 2943 spirals in the GZ1-SpArcFiRe sample with agreement > 0.8\n"
     ]
    }
   ],
   "source": [
    "in_gz1 = (gz1_data['N_spiral'] >= 5) #& (gz1_data['strong_agreement'])\n",
    "in_sparcfire = sparcfire_g['fit_state'] == 'OK'\n",
    "good_agreement = np.any([p_cw < 0.2,p_cw > 0.8],axis=0).T\n",
    "in_spiral = np.all([samples['in_spiral'],samples['axial_ok'],mendel_masses['in_mass_limit']],axis=0)\n",
    "#in_spiral = (samples['all_spiral']) & (samples['in_mass_limit'])\n",
    "\n",
    "ok_sample = np.all([in_gz1,in_sparcfire,in_spiral],\n",
    "                   axis=0).T\n",
    "best_sample = np.all([in_gz1,in_sparcfire,in_spiral,good_agreement],\n",
    "                     axis=0).T\n",
    "\n",
    "print('{} spirals in the GZ1-SpArcFiRe sample'.format(ok_sample.sum()))\n",
    "print('+ {} spirals in the GZ1-SpArcFiRe sample with agreement > 0.8'.format(best_sample.sum()))\n",
    "\n",
    "gz1_chirality = (gz1_data['chirality'] == 'Swise').astype(int)"
   ]
  },
  {
   "cell_type": "code",
   "execution_count": 29,
   "metadata": {
    "collapsed": false
   },
   "outputs": [
    {
     "name": "stdout",
     "output_type": "stream",
     "text": [
      "2310/3051 galaxies agree (75.71288102261555%)\n",
      "2242/2943 galaxies agree (76.18076792388719%)\n",
      "-------------\n",
      "2535/3051 galaxies agree (83.08751229105211%)\n",
      "2468/2943 galaxies agree (83.86000679578662%)\n",
      "-------------\n",
      "2558/3051 galaxies agree (83.84136348738119%)\n",
      "2490/2943 galaxies agree (84.60754332313965%)\n",
      "-------------\n",
      "2426/3051 galaxies agree (79.51491314323172%)\n",
      "2362/2943 galaxies agree (80.25823989126741%)\n",
      "-------------\n"
     ]
    }
   ],
   "source": [
    "from sklearn.metrics import matthews_corrcoef\n",
    "from scipy.stats import pearsonr\n",
    "\n",
    "chirality_columns = ['chirality_maj',\n",
    "                     'chirality_alenWtd',\n",
    "                     'chirality_wtdPangSum',\n",
    "                     'chirality_longestArc']\n",
    "\n",
    "chi_gz1_ok = gz1_chirality[ok_sample]\n",
    "chi_gz1_best = gz1_chirality[best_sample]\n",
    "\n",
    "for column in chirality_columns:\n",
    "    chi_sparcfire_ok = (sparcfire_g[column][ok_sample] == 'Z-wise').astype(int)\n",
    "    agree = chi_gz1_ok == chi_sparcfire_ok\n",
    "    print('{}/{} galaxies agree ({}%)'.format(agree.sum(),agree.size,\n",
    "                                              agree.sum()/agree.size*100))\n",
    "    \n",
    "    chi_sparcfire_best = (sparcfire_g[column][best_sample] == 'Z-wise').astype(int)\n",
    "    agree = chi_gz1_best == chi_sparcfire_best\n",
    "    print('{}/{} galaxies agree ({}%)'.format(agree.sum(),agree.size,\n",
    "                                              agree.sum()/agree.size*100))\n",
    "    #print('p = {}'.format(pearsonr(chi_sparcfire,chi_gz1)))\n",
    "    #print('MCC = {}'.format(matthews_corrcoef(chi_sparcfire,chi_gz1)))\n",
    "    print('-------------')"
   ]
  },
  {
   "cell_type": "code",
   "execution_count": null,
   "metadata": {
    "collapsed": true
   },
   "outputs": [],
   "source": []
  }
 ],
 "metadata": {
  "kernelspec": {
   "display_name": "Python 3",
   "language": "python",
   "name": "python3"
  },
  "language_info": {
   "codemirror_mode": {
    "name": "ipython",
    "version": 3
   },
   "file_extension": ".py",
   "mimetype": "text/x-python",
   "name": "python",
   "nbconvert_exporter": "python",
   "pygments_lexer": "ipython3",
   "version": "3.4.5"
  }
 },
 "nbformat": 4,
 "nbformat_minor": 0
}
