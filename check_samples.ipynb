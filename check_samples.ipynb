{
 "cells": [
  {
   "cell_type": "code",
   "execution_count": 1,
   "metadata": {
    "collapsed": true
   },
   "outputs": [],
   "source": [
    "# Preamble\n",
    "from astropy.table import Table, column, vstack\n",
    "import numpy as np\n",
    "import os\n",
    "import pandas as pd\n",
    "\n",
    "%matplotlib inline\n",
    "import matplotlib as mpl\n",
    "from matplotlib import pyplot as plt\n",
    "# better-looking plots\n",
    "plt.rcParams['font.family'] = 'serif'\n",
    "plt.rcParams['figure.figsize'] = (10.0, 8)\n",
    "plt.rcParams['font.size'] = 18\n",
    "mpl.ticker.AutoLocator.default_params['nbins'] = 5\n",
    "mpl.ticker.AutoLocator.default_params['prune'] = 'both'\n",
    "\n",
    "mpl.rcParams['ps.useafm'] = True\n",
    "mpl.rcParams['pdf.use14corefonts'] = True\n",
    "mpl.rcParams['text.usetex'] = True\n",
    "\n",
    "import sys\n",
    "sys.path.append('../astro_codes/')"
   ]
  },
  {
   "cell_type": "code",
   "execution_count": 2,
   "metadata": {
    "collapsed": true
   },
   "outputs": [],
   "source": [
    "gz2_data = Table.read('../fits/full_sample_debiased_w_low_z_mod.fits')"
   ]
  },
  {
   "cell_type": "code",
   "execution_count": 3,
   "metadata": {
    "collapsed": true
   },
   "outputs": [],
   "source": [
    "nsa_data = Table.read('../fits/SF_fits/nsa_less.fits')"
   ]
  },
  {
   "cell_type": "code",
   "execution_count": 4,
   "metadata": {
    "collapsed": false
   },
   "outputs": [
    {
     "name": "stderr",
     "output_type": "stream",
     "text": [
      "WARNING: UnitsWarning: '[Msun]' did not parse as fits unit: Invalid character at col 0 [astropy.units.core]\n",
      "WARNING:astropy:UnitsWarning: '[Msun]' did not parse as fits unit: Invalid character at col 0\n"
     ]
    }
   ],
   "source": [
    "mendel_data = Table.read('../fits/Simard+Mendel/mendel_dusty.fits')\n",
    "mendel_data.remove_column('All')"
   ]
  },
  {
   "cell_type": "code",
   "execution_count": 5,
   "metadata": {
    "collapsed": true
   },
   "outputs": [],
   "source": [
    "#arc_data = Table.read('panoptes_project/arc_table_ML.fits')\n",
    "#samples = Table.read('../fits/sparcfire/sparcfire_samples.fits')\n",
    "#sfr_data = Table.read('../fits/SF_fits/sfrs.fits')\n",
    "#axial_ratios = Table.read('../fits/Axial_ratios/dr7_isoAB_matched.fits')"
   ]
  },
  {
   "cell_type": "markdown",
   "metadata": {},
   "source": [
    "#### First task: re-match the Mendel data"
   ]
  },
  {
   "cell_type": "code",
   "execution_count": 6,
   "metadata": {
    "collapsed": false
   },
   "outputs": [
    {
     "name": "stdout",
     "output_type": "stream",
     "text": [
      "248883 galaxies in the reference catalogue\n",
      "657996 galaxies in the match catalogue\n",
      "---> 237996 matches in total\n"
     ]
    }
   ],
   "source": [
    "from combining_catalogues import match_ids, make_matched_catalogue\n",
    "\n",
    "match_ids = match_ids(gz2_data,mendel_data,'dr7objid','objID')\n",
    "mendel_matched = make_matched_catalogue(gz2_data,mendel_data,match_ids)\n",
    "mendel_matched.write('../fits/Simard+Mendel/mendel_matched.fits',\n",
    "                     overwrite=True)"
   ]
  },
  {
   "cell_type": "code",
   "execution_count": 8,
   "metadata": {
    "collapsed": false
   },
   "outputs": [],
   "source": [
    "mendel_masses = Table()\n",
    "mendel_masses['dr7id'] = gz2_data['dr7objid']\n",
    "mendel_masses['dr8id'] = gz2_data['dr8objid']\n",
    "mendel_masses['total'] = mendel_matched['logM']\n",
    "mendel_masses['total_lower'] = mendel_matched['b_logM']\n",
    "mendel_masses['total_upper'] = mendel_matched['b_logm_lc']\n",
    "mendel_masses['bulge'] = mendel_matched['logMb']\n",
    "mendel_masses['bulge_lower'] = mendel_matched['b_logMb']\n",
    "mendel_masses['bulge_upper'] = mendel_matched['b_logmb_lc']\n",
    "mendel_masses['disc'] = mendel_matched['logMd']\n",
    "mendel_masses['disc_lower'] = mendel_matched['b_logMd']\n",
    "mendel_masses['disc_upper'] = mendel_matched['b_logmd_lc']\n",
    "mendel_masses['bulge+disc'] = mendel_matched['logMt']\n",
    "mendel_masses['bulge+disc_lower'] = mendel_matched['b_logMt']\n",
    "mendel_masses['bulge+disc_upper'] = mendel_matched['b_logmt_lc']\n",
    "mendel_masses['F-test'] = mendel_matched['PpS']\n",
    "\n",
    "mendel_masses.write('../fits/Simard+Mendel/mendel_masses.fits',\n",
    "                    overwrite=True)"
   ]
  },
  {
   "cell_type": "markdown",
   "metadata": {},
   "source": [
    "#### What kind of sample to we require?\n",
    "\n",
    "* Redshift limited (0.03 < z < 0.055)\n",
    "* Luminosity-limited?"
   ]
  },
  {
   "cell_type": "code",
   "execution_count": null,
   "metadata": {
    "collapsed": false
   },
   "outputs": [],
   "source": [
    "from luminosities_magnitudes_and_distances import mag_to_Mag\n",
    "\n",
    "low_z_limit = 0.02\n",
    "\n",
    "samples = Table()\n",
    "\n",
    "in_z_dr7 = np.all([gz2_data['REDSHIFT_1'] >= low_z_limit,\n",
    "                   gz2_data['REDSHIFT_1'] <= 0.055],axis=0)\n",
    "\n",
    "in_z_nsa = nsa_data['Z'] >= low_z_limit\n",
    "\n",
    "print('--- z-limiting --- \\n NSA:{} \\n DR7:{}'.format(in_z_dr7.sum(),\n",
    "                                                      in_z_nsa.sum()))\n",
    "\n",
    "Mr_limit = mag_to_Mag(17,0.055)\n",
    "in_Mr_dr7 = gz2_data['PETROMAG_MR'] <= Mr_limit\n",
    "in_Mr_nsa = nsa_data['M_corrected'][:,4] <= Mr_limit\n",
    "in_volume_limit_dr7 = np.all([in_z_dr7,in_Mr_dr7],axis=0)\n",
    "in_volume_limit_nsa = np.all([in_z_nsa,in_Mr_nsa],axis=0)\n",
    "\n",
    "print('--- M_r-limiting --- \\n M_r={} \\n NSA:{} \\n DR7:{}'.format(Mr_limit,\n",
    "                      in_volume_limit_dr7.sum(),in_volume_limit_nsa.sum()))\n",
    "\n",
    "low_mass_limit = 10.108576202851912\n",
    "high_mass_limit = 11.338759782465708\n",
    "\n",
    "in_mass_limit = np.all([mendel_masses['bulge+disc'] >= low_mass_limit,\n",
    "                        mendel_masses['bulge+disc'] <= high_mass_limit],\n",
    "                        axis=0)\n",
    "\n",
    "in_mass_limit_dr7 = np.all([in_z_dr7,in_Mr_dr7,in_mass_limit],axis=0)\n",
    "in_mass_limit_nsa = np.all([in_z_nsa,in_Mr_nsa,in_mass_limit],axis=0)\n",
    "print('--- M*-limiting --- \\n NSA:{}, DR7:{}'.format(in_mass_limit_dr7.sum(),\n",
    "                                                     in_mass_limit_nsa.sum()))"
   ]
  },
  {
   "cell_type": "code",
   "execution_count": null,
   "metadata": {
    "collapsed": false
   },
   "outputs": [],
   "source": [
    "# Ok, first question: why are only 4000/21000 classed as spirals?\n",
    "\n",
    "def Np_spiral(gz2_data):\n",
    "    p_spiral = (gz2_data['t01_smooth_or_features_a02_features_or_disk_debiased_rh']*\n",
    "                gz2_data['t02_edgeon_a05_no_debiased_rh']*\n",
    "                gz2_data['t04_spiral_a08_spiral_debiased_rh'])\n",
    "    \n",
    "    N_spiral = (gz2_data['t04_spiral_a08_spiral_count'] - \n",
    "                gz2_data['t11_arms_number_a37_cant_tell_count'])\n",
    "    \n",
    "    p_spiral[np.isfinite(p_spiral) == False] = 0\n",
    "    N_spiral[np.isfinite(N_spiral) == False] = 0\n",
    "    \n",
    "    return p_spiral, N_spiral"
   ]
  },
  {
   "cell_type": "code",
   "execution_count": null,
   "metadata": {
    "collapsed": false
   },
   "outputs": [],
   "source": [
    "p, N = Np_spiral(gz2_data)\n",
    "\n",
    "in_spiral = (p >= 0.5) & (N >= 5)\n",
    "\n",
    "axial_ratio = axial_ratios['isoB_g']/axial_ratios['isoA_g']\n",
    "axial_ok = axial_ratio >= 0.4\n",
    "\n",
    "ml_spirals_dr7 = np.all([in_mass_limit_dr7,in_spiral,axial_ok],axis=0)\n",
    "ml_spirals_nsa = np.all([in_mass_limit_nsa,in_spiral,axial_ok],axis=0)"
   ]
  },
  {
   "cell_type": "code",
   "execution_count": null,
   "metadata": {
    "collapsed": false
   },
   "outputs": [],
   "source": [
    "# maybe check the axial ratios w. images?\n",
    "from display_image import display_image\n",
    "np.random.seed(0)\n",
    "\n",
    "fig, axarr = plt.subplots(4,5,figsize=(20,16))\n",
    "axarr = axarr.ravel()\n",
    "\n",
    "plt.hist(axial_ratio)\n",
    "\n",
    "axial_bins = np.linspace(0.2,1,21)\n",
    "for ax, a_min, a_max in zip(axarr,axial_bins[:-1],axial_bins[1:]):\n",
    "    in_bin = np.all([axial_ratio >= a_min,axial_ratio <= a_max],axis=0)\n",
    "    jpeg_url = np.random.choice(gz2_data['jpeg_url'][in_bin])\n",
    "    plt.sca(ax)\n",
    "    display_image(jpeg_url)"
   ]
  },
  {
   "cell_type": "code",
   "execution_count": null,
   "metadata": {
    "collapsed": false
   },
   "outputs": [],
   "source": [
    "samples = Table()\n",
    "samples['dr7id'] = gz2_data['dr7objid']\n",
    "samples['dr8id'] = gz2_data['dr8objid']\n",
    "samples['in_z_nsa'] = in_z_nsa\n",
    "samples['in_vl_nsa'] = in_volume_limit_nsa\n",
    "samples['in_ml_nsa'] = in_mass_limit_nsa\n",
    "samples['in_z_dr7'] = in_z_dr7\n",
    "samples['in_vl_dr7'] = in_volume_limit_dr7\n",
    "samples['in_ml_dr7'] = in_mass_limit_dr7\n",
    "samples['in_spiral'] = in_spiral\n",
    "samples['axial_ratio'] = axial_ratio\n",
    "samples['axial_ok'] = axial_ok\n",
    "samples.write('../fits/sparcfire/sparcfire_samples.fits',overwrite=True)"
   ]
  },
  {
   "cell_type": "code",
   "execution_count": null,
   "metadata": {
    "collapsed": true
   },
   "outputs": [],
   "source": []
  }
 ],
 "metadata": {
  "kernelspec": {
   "display_name": "Python 3",
   "language": "python",
   "name": "python3"
  },
  "language_info": {
   "codemirror_mode": {
    "name": "ipython",
    "version": 3
   },
   "file_extension": ".py",
   "mimetype": "text/x-python",
   "name": "python",
   "nbconvert_exporter": "python",
   "pygments_lexer": "ipython3",
   "version": "3.4.5"
  }
 },
 "nbformat": 4,
 "nbformat_minor": 0
}
