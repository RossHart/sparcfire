{
 "cells": [
  {
   "cell_type": "code",
   "execution_count": 1,
   "metadata": {
    "collapsed": true
   },
   "outputs": [],
   "source": [
    "# Preamble\n",
    "from astropy.table import Table, column, vstack\n",
    "import numpy as np\n",
    "import os\n",
    "import pandas as pd\n",
    "\n",
    "%matplotlib inline\n",
    "import matplotlib as mpl\n",
    "from matplotlib import pyplot as plt\n",
    "# better-looking plots\n",
    "plt.rcParams['font.family'] = 'serif'\n",
    "plt.rcParams['figure.figsize'] = (10.0, 8)\n",
    "plt.rcParams['font.size'] = 18\n",
    "mpl.ticker.AutoLocator.default_params['nbins'] = 5\n",
    "mpl.ticker.AutoLocator.default_params['prune'] = 'both'\n",
    "\n",
    "mpl.rcParams['ps.useafm'] = True\n",
    "mpl.rcParams['pdf.use14corefonts'] = True\n",
    "mpl.rcParams['text.usetex'] = True\n",
    "\n",
    "import sys\n",
    "sys.path.append('../astro_codes/')"
   ]
  },
  {
   "cell_type": "code",
   "execution_count": 2,
   "metadata": {
    "collapsed": true
   },
   "outputs": [],
   "source": [
    "gz2_data = Table.read('../fits/full_sample_debiased_w_low_z_mod.fits')"
   ]
  },
  {
   "cell_type": "code",
   "execution_count": 3,
   "metadata": {
    "collapsed": true
   },
   "outputs": [],
   "source": [
    "arc_data = Table.read('panoptes_project/arc_table_ml.fits')\n",
    "#samples = Table.read('../fits/sparcfire/sparcfire_samples.fits')\n",
    "matched_spirals = Table.read('ml_table_matched.fits')\n",
    "mass_data = Table.read('../fits/Simard+Mendel/mendel_masses.fits')\n",
    "sfr_data = Table.read('../fits/SF_fits/sfrs.fits')"
   ]
  },
  {
   "cell_type": "markdown",
   "metadata": {},
   "source": [
    "#### First task: define the sample:"
   ]
  },
  {
   "cell_type": "code",
   "execution_count": 8,
   "metadata": {
    "collapsed": false
   },
   "outputs": [
    {
     "name": "stdout",
     "output_type": "stream",
     "text": [
      "5442 galaxies were put in to sparcfire!\n",
      "+ 3190 have good arcs identified by sparcfire!\n"
     ]
    }
   ],
   "source": [
    "in_ml_sample = np.all([matched_spirals[c] for c in['in_sparcfire_r',\n",
    "                                                   'redshift_error_ok']],axis=0)\n",
    "\n",
    "print('{} galaxies were put in to sparcfire!'.format(in_ml_sample.sum()))\n",
    "sample_ids = gz2_data['dr8objid'][in_ml_sample]\n",
    "\n",
    "has_good_arcs = []\n",
    "for id_ in sample_ids:\n",
    "    arcs_id = arc_data[arc_data['gxyName'] == id_]\n",
    "    has_good_arc = np.any(arcs_id['p_good_predicted'])\n",
    "    has_good_arcs.append(has_good_arc)\n",
    "\n",
    "has_good_arcs = np.array(has_good_arcs)\n",
    "print('+ {} have good arcs identified by sparcfire!'.format(has_good_arcs.sum()))"
   ]
  },
  {
   "cell_type": "code",
   "execution_count": 10,
   "metadata": {
    "collapsed": false
   },
   "outputs": [
    {
     "name": "stderr",
     "output_type": "stream",
     "text": [
      "/home/ppxrh/anaconda3/lib/python3.4/site-packages/ipykernel/__main__.py:43: FutureWarning: np.average currently does not preserve subclasses, but will do so in the future to match the behavior of most other numpy functions such as np.mean. In particular, this means calls which returned a scalar may return a 0-d subclass object instead.\n"
     ]
    }
   ],
   "source": [
    "# First task: plot up the arm characteristics:\n",
    "def get_gz2_stats(gz2_data):\n",
    "    m_colnames = ['t11_arms_number_a31_1_debiased_rh',\n",
    "                  't11_arms_number_a32_2_debiased_rh',\n",
    "                  't11_arms_number_a33_3_debiased_rh',\n",
    "                  't11_arms_number_a34_4_debiased_rh',\n",
    "                  't11_arms_number_a36_more_than_4_debiased_rh']\n",
    "    \n",
    "    w_colnames = ['t10_arms_winding_a28_tight_debiased_rh',\n",
    "                  't10_arms_winding_a29_medium_debiased_rh',\n",
    "                  't10_arms_winding_a30_loose_debiased_rh']\n",
    "    \n",
    "    m_array = np.array([gz2_data[column] for column in m_colnames]).T\n",
    "    w_array = np.array([gz2_data[column] for column in w_colnames]).T\n",
    "    m = np.argmax(m_array,axis=1) + 1\n",
    "    w = np.argmax(w_array,axis=1) + 1\n",
    "    m_max = np.max(m_array,axis=1)\n",
    "    w_max = np.max(w_array,axis=1)\n",
    "    def measure_wtd_avg(array):\n",
    "        N_rows, N_columns = np.shape(array)\n",
    "        wtd_avg = np.zeros(N_rows)\n",
    "        for c in range(N_columns):\n",
    "            wtd_avg += array[:,c]*(c+1)\n",
    "        wtd_avg_sum  = np.sum(array,axis=1)\n",
    "        return wtd_avg/wtd_avg_sum\n",
    "    m_wtd_avg = measure_wtd_avg(m_array)\n",
    "    w_wtd_avg = measure_wtd_avg(w_array)\n",
    "    p_bar = gz2_data['t03_bar_a06_bar_debiased_rh']\n",
    "    return m, w, m_max, w_max ,m_wtd_avg, w_wtd_avg, p_bar\n",
    "\n",
    "\n",
    "def measure_N_detected(ids,arc_data):\n",
    "    N_detected = []\n",
    "    pitch_angles = []\n",
    "    for id_ in ids:\n",
    "        arcs_id = arc_data[arc_data['gxyName'] == id_]\n",
    "        N_detected_id = arcs_id['p_good_predicted'].sum()\n",
    "        N_detected.append(N_detected_id)\n",
    "        good_arcs = arcs_id['p_good_predicted'] == 1\n",
    "        length_weights = arcs_id['arc_length'][good_arcs]\n",
    "        Ps = arcs_id['pitch_angle_absolute'][good_arcs]\n",
    "        if N_detected_id != 0:\n",
    "            pitch_angle = np.average(Ps,weights=length_weights)\n",
    "        else:\n",
    "            pitch_angle = -999\n",
    "        pitch_angles.append(pitch_angle)\n",
    "    return N_detected, pitch_angles\n",
    "\n",
    "m, w, m_max, w_max, m_wtd_avg, w_wtd_avg, p_bar = \\\n",
    "get_gz2_stats(gz2_data[in_ml_sample])\n",
    "N, P = measure_N_detected(sample_ids,arc_data)\n",
    "\n",
    "galaxy_level_data = Table()\n",
    "galaxy_level_data['id'] = sample_ids\n",
    "galaxy_level_data['has_good_arc'] = has_good_arcs\n",
    "\n",
    "galaxy_level_data['total_mass'] = mass_data[in_ml_sample]['bulge+disc']\n",
    "galaxy_level_data['bulge_mass'] = mass_data[in_ml_sample]['bulge']\n",
    "galaxy_level_data['disc_mass'] = mass_data[in_ml_sample]['disc']\n",
    "galaxy_level_data['btr'] = 10**(mass_data[in_ml_sample]['bulge'] \n",
    "                              - mass_data[in_ml_sample]['bulge+disc'])\n",
    "\n",
    "galaxy_level_data['m'] = m\n",
    "galaxy_level_data['w'] = w\n",
    "galaxy_level_data['N_sparcfire'] = N\n",
    "galaxy_level_data['completeness'] = (galaxy_level_data['N_sparcfire']/\n",
    "                                     galaxy_level_data['m'])\n",
    "galaxy_level_data['P_wtd_avg'] = P\n",
    "galaxy_level_data['w_wtd_avg'] = w_wtd_avg\n",
    "galaxy_level_data['m_wtd_avg'] = m_wtd_avg\n",
    "galaxy_level_data['m_max'] = m_max\n",
    "galaxy_level_data['w_max'] = w_max\n",
    "galaxy_level_data['p_bar'] = p_bar\n",
    "\n",
    "galaxy_level_data['sfr_mpa'] = sfr_data['sfr_mpa'][in_ml_sample]\n",
    "galaxy_level_data['sfr_fuv'] = sfr_data['sfr_fuv'][in_ml_sample]\n",
    "galaxy_level_data['sfr_22'] = sfr_data['sfr_22'][in_ml_sample]\n",
    "galaxy_level_data['sfr_total'] = sfr_data['sfr_total'][in_ml_sample]\n",
    "galaxy_level_data['w4_ok'] = sfr_data['w4'][in_ml_sample] >= 2\n",
    "galaxy_level_data['F_ok'] = sfr_data['F'][in_ml_sample] >= 2\n",
    "galaxy_level_data['mir_fraction'] = sfr_data['mir_fraction'][in_ml_sample]\n",
    "\n",
    "galaxy_level_data['has_bulge'] = np.isfinite(galaxy_level_data['bulge_mass'])\n",
    "galaxy_level_data['has_disc'] = np.isfinite(galaxy_level_data['disc_mass'])\n",
    "\n",
    "#print(galaxy_level_data['has_bulge'].sum(),len(galaxy_level_data['has_bulge']))\n",
    "galaxy_level_data.write('galaxy_level_data.fits',overwrite=True)"
   ]
  },
  {
   "cell_type": "code",
   "execution_count": null,
   "metadata": {
    "collapsed": false
   },
   "outputs": [],
   "source": [
    "from bin_statistics import assign_bins, stats_functions\n",
    "mlabels = ('1','2','3','4','5+')\n",
    "\n",
    "f = stats_functions().fraction_with_feature(galaxy_level_data['has_good_arc'],\n",
    "                                            galaxy_level_data['m'])\n",
    "\n",
    "fig = plt.figure(figsize=(10,6))\n",
    "ax = plt.subplot(111)\n",
    "\n",
    "_ = ax.errorbar([1,2,3,4,5],f['f'],yerr=(f['f']-f['f-0.683']),color='g',\n",
    "                marker='o',capsize=2,capthick=3,lw=3)\n",
    "\n",
    "_ = ax.set_ylim(0,1)\n",
    "_ = ax.set_xlim(0.5,5.5)\n",
    "_ = ax.set_xticks([1,2,3,4,5])\n",
    "_ = ax.set_xticklabels(mlabels)\n",
    "_ = ax.set_xlabel('$m$')\n",
    "_ = ax.set_ylabel('$f_\\mathrm{detected}$')"
   ]
  },
  {
   "cell_type": "code",
   "execution_count": null,
   "metadata": {
    "collapsed": false
   },
   "outputs": [],
   "source": [
    "from xy_plots import x_vs_y\n",
    "\n",
    "fig, axarr = plt.subplots(2,1,figsize=(10,10),sharex=True)\n",
    "fig.subplots_adjust(hspace=0,wspace=0)\n",
    "#ax = plt.subplot(111)\n",
    "\n",
    "has_arc_mask = has_good_arcs\n",
    "\n",
    "xy = x_vs_y(galaxy_level_data['m'][has_good_arcs],\n",
    "            galaxy_level_data['N_sparcfire'][has_good_arcs])\n",
    "xy.discrete_vs_continuous_binned(axarr[0],color='b',marker='o',\n",
    "                                 capsize=2,capthick=3,lw=3)\n",
    "\n",
    "xy = x_vs_y(galaxy_level_data['m'][has_good_arcs],\n",
    "            galaxy_level_data['completeness'][has_good_arcs])\n",
    "xy.discrete_vs_continuous_binned(axarr[1],color='r',marker='o',\n",
    "                                 capsize=2,capthick=3,lw=3)\n",
    "\n",
    "_ = axarr[1].set_xlim(0.5,5.5)\n",
    "_ = axarr[1].set_xticks([1,2,3,4,5])\n",
    "_ = axarr[1].set_xticklabels(mlabels)\n",
    "_ = axarr[1].set_xlabel('$m$')\n",
    "_ = axarr[0].set_ylabel('$N_\\mathrm{arcs}$')\n",
    "_ = axarr[1].set_ylabel('$M_\\mathrm{arcs}/m$')"
   ]
  },
  {
   "cell_type": "markdown",
   "metadata": {},
   "source": [
    " **What we see here is that the new method is not particularly desirable for selecting the correct _number_ of arcs**\n",
    " \n",
    "- We should, however, check how well it does at reproducing the pitch angles and other features?"
   ]
  },
  {
   "cell_type": "code",
   "execution_count": null,
   "metadata": {
    "collapsed": false
   },
   "outputs": [],
   "source": [
    "wlabels = ('tight','medium','loose')\n",
    "fig, axarr = plt.subplots(1,2,figsize=(10,5),sharey=True)\n",
    "\n",
    "########################\n",
    "ax = axarr[0]\n",
    "\n",
    "xy = x_vs_y(galaxy_level_data['w'][has_good_arcs],\n",
    "            galaxy_level_data['P_wtd_avg'][has_good_arcs])\n",
    "xy.discrete_vs_continuous_binned(ax,marker='o',color='g',lw=2,capsize=3,\n",
    "                                 label='all')\n",
    "\n",
    "best_w = (has_good_arcs*galaxy_level_data['w_max']) >= 0.8\n",
    "\n",
    "xy = x_vs_y(galaxy_level_data['w'][best_w],\n",
    "            galaxy_level_data['P_wtd_avg'][best_w])\n",
    "xy.discrete_vs_continuous_binned(ax,marker='s',color='k',lw=1,capsize=3,\n",
    "                                 label='$p_\\mathrm{max} \\geq 0.8$')\n",
    "\n",
    "_ = ax.set_xlabel('$w$')\n",
    "_ = ax.set_ylabel('$\\psi$')\n",
    "_ = ax.set_xticks([1,2,3])\n",
    "_ = ax.set_xticklabels(wlabels)\n",
    "_ = ax.legend(fancybox=False,edgecolor='k')\n",
    "########################\n",
    "ax = axarr[1]\n",
    "\n",
    "xy = x_vs_y(galaxy_level_data['w_wtd_avg'][has_good_arcs],\n",
    "            galaxy_level_data['P_wtd_avg'][has_good_arcs])\n",
    "xy.continuous_vs_continuous_binned(ax,marker='o',color='g',lw=2,capsize=3)\n",
    "xy.show_spearmanr(ax,location='lower right')\n",
    "\n",
    "_ = ax.set_xlabel('$w_\\mathrm{wtd \\, avg}$')\n",
    "_ = ax.set_xlim(1,3)"
   ]
  },
  {
   "cell_type": "code",
   "execution_count": null,
   "metadata": {
    "collapsed": false,
    "scrolled": false
   },
   "outputs": [],
   "source": [
    "unbarred = (has_good_arcs*(galaxy_level_data['p_bar'] < 0.5)).astype(bool)\n",
    "\n",
    "mlabels = ('1','2','3','4','5+')\n",
    "fig, axarr = plt.subplots(2,2,figsize=(10,10),\n",
    "                          sharex='col')\n",
    "\n",
    "axarr = axarr.ravel()\n",
    "\n",
    "################\n",
    "ax = axarr[0]\n",
    "xy = x_vs_y(galaxy_level_data['m'][has_good_arcs],\n",
    "            galaxy_level_data['P_wtd_avg'][has_good_arcs])\n",
    "xy.discrete_vs_continuous_binned(ax,marker='o',color='r',lw=2,capsize=3,\n",
    "                                 label='all')\n",
    "\n",
    "################\n",
    "ax = axarr[1]\n",
    "xy = x_vs_y(galaxy_level_data['m_wtd_avg'][has_good_arcs],\n",
    "            galaxy_level_data['P_wtd_avg'][has_good_arcs])\n",
    "xy.continuous_vs_continuous_binned(ax,bins=8,equal_N=True,\n",
    "                                   marker='o',color='r',lw=2,capsize=3)\n",
    "xy.show_spearmanr(ax,location='lower right')\n",
    "\n",
    "################\n",
    "ax = axarr[2]\n",
    "xy = x_vs_y(galaxy_level_data['m'][unbarred],\n",
    "            galaxy_level_data['P_wtd_avg'][unbarred])\n",
    "xy.discrete_vs_continuous_binned(ax,marker='o',color='b',lw=2,capsize=3,label='all')\n",
    "\n",
    "################\n",
    "ax = axarr[3]\n",
    "xy = x_vs_y(galaxy_level_data['m_wtd_avg'][unbarred],\n",
    "            galaxy_level_data['P_wtd_avg'][unbarred])\n",
    "xy.continuous_vs_continuous_binned(ax,bins=8,equal_N=True,label=None,\n",
    "                                   marker='o',color='b',lw=2,capsize=3)\n",
    "xy.show_spearmanr(ax,location='lower right')\n",
    "\n",
    "axarr[0].set_ylabel('$\\psi$ (galaxy, length wtd. avg.)')\n",
    "axarr[1].set_xticks([1,2,3,4,5])\n",
    "axarr[2].set_ylabel('$\\psi$ (galaxy, length wtd. avg.)')\n",
    "axarr[2].set_xlabel('$m$')\n",
    "axarr[2].set_xticks([1,2,3,4,5])\n",
    "axarr[2].set_xticklabels(mlabels)\n",
    "\n",
    "axarr[3].set_xlabel('$m_\\mathrm{wtd \\, avg}$')\n",
    "axarr[3].plot([],[],'ro-',lw=2,label='all spirals')\n",
    "axarr[3].plot([],[],'bo-',lw=2,label='unbarred only')\n",
    "axarr[3].legend(fancybox=False,edgecolor='k')\n",
    "axarr[3].set_xticks([2,3,4])\n",
    "axarr[3].set_xlim(1.5,4.5)"
   ]
  },
  {
   "cell_type": "markdown",
   "metadata": {},
   "source": [
    "Here we see the result that we have seen before: there is a correlation between pitch angle and arm number: galaxies with _more spiral arms_ show _looser spiral structures_. The next stage will be to look at how arm numbers and pitch angles vary w.r.t bulge mass, disc mass and total mass.\n",
    "\n",
    "#### Bar presence vs. pitch angle?"
   ]
  },
  {
   "cell_type": "code",
   "execution_count": null,
   "metadata": {
    "collapsed": false
   },
   "outputs": [],
   "source": [
    "fig = plt.figure(figsize=(10,10))\n",
    "ax = plt.subplot(111)\n",
    "\n",
    "m_2 = (has_good_arcs*(galaxy_level_data['m'] == 2))\n",
    "\n",
    "xy = x_vs_y(galaxy_level_data['p_bar'][has_good_arcs],\n",
    "            galaxy_level_data['P_wtd_avg'][has_good_arcs])\n",
    "xy.continuous_vs_continuous_binned(ax,marker='o',color='k',lw=2,capsize=3,\n",
    "                                   label='all spirals',bins=8)\n",
    "xy.show_spearmanr(ax,location='upper left')\n",
    "\n",
    "xy = x_vs_y(galaxy_level_data['p_bar'][m_2],\n",
    "            galaxy_level_data['P_wtd_avg'][m_2])\n",
    "xy.continuous_vs_continuous_binned(ax,marker='s',color='g',lw=3,capsize=3,\n",
    "                                   label='$m=2$ only',bins=8)\n",
    "xy.show_spearmanr(ax,color='g',location='lower right')\n",
    "\n",
    "_ = ax.legend(loc='upper right',fancybox=False,edgecolor='k',fontsize=15)\n",
    "_ = ax.set_xlabel('$p_\\mathrm{bar}$')\n",
    "_ = ax.set_ylabel('$\\psi$ (galaxy, length wtd. avg.)')"
   ]
  },
  {
   "cell_type": "code",
   "execution_count": null,
   "metadata": {
    "collapsed": false
   },
   "outputs": [],
   "source": [
    "def xy_mass_row(axarr,table,y_column='m_wtd_avg',x_label=True,**kwargs):\n",
    "    x_columns = ('total_mass','bulge_mass','disc_mass','btr')\n",
    "    x_labels = ('$M_\\mathrm{total}$','$M_\\mathrm{bulge}$',\n",
    "                '$M_\\mathrm{disc}$','$M_\\mathrm{bulge}/M_\\mathrm{total}$')\n",
    "    bulge_mask, disc_mask = table['has_bulge'],table['has_disc']\n",
    "    masks = [(bulge_mask*disc_mask).astype(bool),bulge_mask,disc_mask,\n",
    "             (bulge_mask*disc_mask).astype(bool)]\n",
    "    for xlabel, x_column, ax, mask in zip(x_labels,x_columns,axarr,masks):\n",
    "        xy = x_vs_y(table[x_column][mask],table[y_column][mask])\n",
    "        xy.continuous_vs_continuous_binned(ax,bins=6,equal_N=True,**kwargs)\n",
    "        if x_label is True:\n",
    "            ax.set_xlabel(xlabel)\n",
    "    return None\n",
    "\n",
    "fig, axarr = plt.subplots(3,4,figsize=(20,15))\n",
    "unbarred_m_2 = (unbarred*m_2).astype(bool)\n",
    "\n",
    "xy_mass_row(axarr[0],galaxy_level_data[has_good_arcs],'m_wtd_avg',False,\n",
    "            color='r',lw=2,marker='o')\n",
    "xy_mass_row(axarr[0],galaxy_level_data[unbarred],'m_wtd_avg',False,\n",
    "            color='b',lw=2,marker='o')\n",
    "\n",
    "xy_mass_row(axarr[1],galaxy_level_data[has_good_arcs],'P_wtd_avg',False,\n",
    "            color='r',lw=2,marker='o')\n",
    "xy_mass_row(axarr[1],galaxy_level_data[unbarred],'P_wtd_avg',True,\n",
    "            color='b',lw=2,marker='o')\n",
    "\n",
    "xy_mass_row(axarr[2],galaxy_level_data[m_2],'P_wtd_avg',False,\n",
    "            color='r',lw=2,marker='o',label=None)\n",
    "xy_mass_row(axarr[2],galaxy_level_data[unbarred_m_2],'P_wtd_avg',True,\n",
    "            color='b',lw=2,marker='o',label=None)\n",
    "\n",
    "_ = axarr[0,0].set_ylabel('$m_\\mathrm{wtd \\, avg}$ (galaxy)')\n",
    "_ = axarr[1,0].set_ylabel('$\\psi$ (galaxy, L wtd, avg.)')\n",
    "_ = axarr[2,0].set_ylabel('$\\psi$ (galaxy, L wtd, avg.) [$m=2$ only]')\n",
    "_ = axarr[-1,-1].plot([],[],'ro-',label='all')\n",
    "_ = axarr[-1,-1].plot([],[],'bo-',label='unbarred only')\n",
    "_ = axarr[-1,-1].legend(fancybox=False,edgecolor='k',fontsize=15)"
   ]
  },
  {
   "cell_type": "markdown",
   "metadata": {},
   "source": [
    "**Finally, compare the SFRs?**"
   ]
  },
  {
   "cell_type": "code",
   "execution_count": null,
   "metadata": {
    "collapsed": false,
    "scrolled": false
   },
   "outputs": [],
   "source": [
    "def xy_sfr_row(axarr,table,y_column='m_wtd_avg',x_label=True,**kwargs):\n",
    "    x_columns = ('sfr_mpa','sfr_fuv','sfr_22','sfr_total')\n",
    "    x_labels = ('$SFR$ (MPA-JHU)','$SFR$ (FUV)',\n",
    "                '$SFR$ (22$\\mu$m)','$SFR_{22} + SFR_\\mathrm{FUV}$')\n",
    "    masks = (table['sfr_mpa'] >= -10, table['F_ok'], table['w4_ok'],\n",
    "             (table['F_ok']*table['w4_ok']).astype(bool))\n",
    "    for xlabel, x_column, mask, ax in zip(x_labels,x_columns,masks,axarr):\n",
    "        xy = x_vs_y(table[x_column][mask],table[y_column][mask])\n",
    "        xy.continuous_vs_continuous_binned(ax,bins=6,equal_N=True,**kwargs)\n",
    "        if x_label is True:\n",
    "            ax.set_xlabel(xlabel)\n",
    "    return None\n",
    "\n",
    "fig, axarr = plt.subplots(3,4,figsize=(20,15))\n",
    "\n",
    "xy_sfr_row(axarr[0],galaxy_level_data[has_good_arcs],'m_wtd_avg',False,\n",
    "            color='r',lw=2,marker='o')\n",
    "xy_sfr_row(axarr[0],galaxy_level_data[unbarred],'m_wtd_avg',False,\n",
    "            color='b',lw=2,marker='o')\n",
    "\n",
    "xy_sfr_row(axarr[1],galaxy_level_data[has_good_arcs],'P_wtd_avg',False,\n",
    "            color='r',lw=2,marker='o')\n",
    "xy_sfr_row(axarr[1],galaxy_level_data[unbarred],'P_wtd_avg',True,\n",
    "            color='b',lw=2,marker='o',label=None)\n",
    "\n",
    "xy_sfr_row(axarr[2],galaxy_level_data[m_2],'P_wtd_avg',False,\n",
    "            color='r',lw=2,marker='o',label=None)\n",
    "xy_sfr_row(axarr[2],galaxy_level_data[unbarred_m_2],'P_wtd_avg',True,\n",
    "            color='b',lw=2,marker='o',label=None)\n",
    "\n",
    "_ = axarr[0,0].set_ylabel('$m_\\mathrm{wtd \\, avg}$ (galaxy)')\n",
    "_ = axarr[1,0].set_ylabel('$\\psi$ (galaxy, L wtd, avg.)')\n",
    "_ = axarr[2,0].set_ylabel('$\\psi$ (galaxy, L wtd, avg.) [$m=2$ only]')\n",
    "_ = axarr[-1,-1].plot([],[],'ro-',label='all')\n",
    "_ = axarr[-1,-1].plot([],[],'bo-',label='unbarred only')\n",
    "_ = axarr[-1,-1].legend(fancybox=False,edgecolor='k',fontsize=15)"
   ]
  }
 ],
 "metadata": {
  "kernelspec": {
   "display_name": "Python 3",
   "language": "python",
   "name": "python3"
  },
  "language_info": {
   "codemirror_mode": {
    "name": "ipython",
    "version": 3
   },
   "file_extension": ".py",
   "mimetype": "text/x-python",
   "name": "python",
   "nbconvert_exporter": "python",
   "pygments_lexer": "ipython3",
   "version": "3.4.5"
  }
 },
 "nbformat": 4,
 "nbformat_minor": 0
}
