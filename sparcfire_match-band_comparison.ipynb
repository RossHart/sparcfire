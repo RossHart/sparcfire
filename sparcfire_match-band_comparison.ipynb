{
 "cells": [
  {
   "cell_type": "code",
   "execution_count": 1,
   "metadata": {
    "collapsed": false
   },
   "outputs": [],
   "source": [
    "# Preamble\n",
    "from astropy.table import Table, column\n",
    "import numpy as np\n",
    "import os\n",
    "import pandas as pd\n",
    "\n",
    "%matplotlib inline\n",
    "import matplotlib as mpl\n",
    "from matplotlib import pyplot as plt\n",
    "# better-looking plots\n",
    "plt.rcParams['font.family'] = 'serif'\n",
    "plt.rcParams['figure.figsize'] = (10.0, 8)\n",
    "plt.rcParams['font.size'] = 18\n",
    "mpl.ticker.AutoLocator.default_params['nbins'] = 5\n",
    "mpl.ticker.AutoLocator.default_params['prune'] = 'both'\n",
    "\n",
    "mpl.rcParams['ps.useafm'] = True\n",
    "mpl.rcParams['pdf.use14corefonts'] = True\n",
    "mpl.rcParams['text.usetex'] = True\n",
    "\n",
    "import sys\n",
    "sys.path.append('../astro_codes/')"
   ]
  },
  {
   "cell_type": "markdown",
   "metadata": {},
   "source": [
    "#### Load the data"
   ]
  },
  {
   "cell_type": "code",
   "execution_count": 13,
   "metadata": {
    "collapsed": true
   },
   "outputs": [],
   "source": [
    "gz2_data = Table.read('../fits/full_sample_debiased_w_low_z.fits') # galaxies data\n",
    "#samples = Table.read('../fits/SF_fits/samples.fits') # galaxy samples data\n",
    "sparcfire_samples = Table.read('../fits/sparcfire/sparcfire_samples.fits')\n",
    "mendel_masses = Table.read('../fits/Simard+Mendel/mendel_masses.fits')\n",
    "g_ok = Table.read('g_vs_r/g_ok.fits')"
   ]
  },
  {
   "cell_type": "code",
   "execution_count": 5,
   "metadata": {
    "collapsed": false
   },
   "outputs": [],
   "source": [
    "sparcfire_g = Table.read('../sparcfire_directories/g/g.galaxy_matched.fits') # sparcfire data\n",
    "sparcfire_r = Table.read('../sparcfire_directories/r/r.galaxy_matched.fits') # sparcfire data"
   ]
  },
  {
   "cell_type": "code",
   "execution_count": 6,
   "metadata": {
    "collapsed": false
   },
   "outputs": [],
   "source": [
    "import pandas as pd\n",
    "sparcfire_g_arcs = pd.read_csv('../sparcfire_directories/g/g.galaxy_arcs.csv') # individual arc data\n",
    "sparcfire_r_arcs = pd.read_csv('../sparcfire_directories/r/r.galaxy_arcs.csv') # individual arc data"
   ]
  },
  {
   "cell_type": "markdown",
   "metadata": {},
   "source": [
    "#### Now create our samples, using masks"
   ]
  },
  {
   "cell_type": "code",
   "execution_count": 22,
   "metadata": {
    "collapsed": false
   },
   "outputs": [
    {
     "name": "stdout",
     "output_type": "stream",
     "text": [
      "2671 galaxies OK in the g+r bands\n"
     ]
    }
   ],
   "source": [
    "# Look for spirals (Hart+17 method), which have been successfully reduced in sparcfire\n",
    "g_fit_ok = np.all([sparcfire_g['fit_state'] == 'OK',g_ok['ok']],\n",
    "                  axis=0)\n",
    "r_fit_ok = sparcfire_r['fit_state'] == 'OK'\n",
    "\n",
    "spiral_ok = np.all([sparcfire_samples[c] for c in ['in_mass_limit','axial_ok','in_spiral']],\n",
    "                   axis=0)\n",
    "\n",
    "spiral_sample = np.all([g_fit_ok,r_fit_ok,spiral_ok],axis=0)\n",
    "print('{} galaxies OK in the g+r bands'.format(spiral_sample.sum()))\n",
    "\n",
    "# Convert sparcfire chiralitites to binary values (for fast lookup)\n",
    "id_column = np.array(sparcfire_g['dr8objid']).astype(np.int64)\n",
    "chi_g_column = np.array(sparcfire_g['chirality_wtdPangSum'] == 'S-wise').astype(np.int)\n",
    "chi_r_column = np.array(sparcfire_r['chirality_wtdPangSum'] == 'Swise').astype(int)\n",
    "chi_g_array = np.array([id_column,chi_g_column]).T\n",
    "chi_r_array = np.array([id_column,chi_r_column]).T"
   ]
  },
  {
   "cell_type": "code",
   "execution_count": 20,
   "metadata": {
    "collapsed": false
   },
   "outputs": [
    {
     "name": "stderr",
     "output_type": "stream",
     "text": [
      "/home/ppxrh/anaconda3/lib/python3.4/site-packages/ipykernel/__main__.py:8: RuntimeWarning: invalid value encountered in true_divide\n"
     ]
    }
   ],
   "source": [
    "def measure_weighted_average(data,columns):\n",
    "    p_array = np.array([data[c] for c in columns]).T\n",
    "    p_array[np.isfinite(p_array) == False] = 0\n",
    "    p_mean = np.zeros(len(p_array))\n",
    "    p_sum = np.sum(p_array,axis=1)\n",
    "    for c in range(len(columns)):\n",
    "        p_mean += (c+1)*p_array[:,c]\n",
    "    p_mean = p_mean/p_sum\n",
    "    p_mean[np.isfinite(p_mean) == False] = 0\n",
    "    p_absolute = np.argmax(p_array,axis=1) + 1\n",
    "    return p_mean, p_absolute\n",
    "\n",
    "m_columns = ['t11_arms_number_a31_1_debiased_rh',\n",
    "             't11_arms_number_a32_2_debiased_rh',\n",
    "             't11_arms_number_a33_3_debiased_rh',\n",
    "             't11_arms_number_a34_4_debiased_rh',\n",
    "             't11_arms_number_a36_more_than_4_debiased_rh']\n",
    "\n",
    "w_columns =  ['t10_arms_winding_a28_tight_debiased_rh',\n",
    "              't10_arms_winding_a29_medium_debiased_rh',\n",
    "              't10_arms_winding_a30_loose_debiased_rh']\n",
    "\n",
    "m_wtd_average, m_absolute = measure_weighted_average(gz2_data,m_columns)\n",
    "w_wtd_average, w_absolute = measure_weighted_average(gz2_data,w_columns)\n",
    "gz_statistics = Table(np.array([m_wtd_average,m_absolute,w_wtd_average,w_absolute]).T,\n",
    "                      names=('m_wtd_avg','m','w_wtd_avg','w'),\n",
    "                      dtype=(float,int,float,int))\n",
    "\n",
    "spiral_statistics = gz_statistics[spiral_sample]"
   ]
  },
  {
   "cell_type": "markdown",
   "metadata": {},
   "source": [
    "#### In bins of $m_\\mathrm{wtd \\, avg}$, at what length should we cut the data?\n",
    "1. Using a _single_ length cut?\n",
    "2. Investigate a _variable_ length cut?\n",
    "3. Compare pitch angles?\n",
    "\n",
    "#### Considerations:\n",
    "- log space (ie. effectively 'downweighting' the top end)\n",
    "- $N$ or $N_\\mathrm{wtd \\, avg}$"
   ]
  },
  {
   "cell_type": "code",
   "execution_count": 24,
   "metadata": {
    "collapsed": false
   },
   "outputs": [],
   "source": [
    "from scipy.stats import spearmanr, pearsonr\n",
    "from scipy.optimize import curve_fit\n",
    "from lookup_arcs import ArcLookup, ArcStats # my class for measuring arc statistics\n",
    "from xy_plots import x_vs_y # my class for binning and plotting\n",
    "from bin_statistics import assign_bins # my binning class\n",
    "\n",
    "colors = 'bgyrmk'"
   ]
  },
  {
   "cell_type": "markdown",
   "metadata": {},
   "source": [
    "#### To at least test whether a fit to the data is reasonable, we will do the most basic possible fit (linear)\n",
    "\n",
    "---> This should _at least_ be able to fit the data slightly better, ie. go the right way"
   ]
  },
  {
   "cell_type": "markdown",
   "metadata": {},
   "source": [
    "### Now do the same for a series of fixed cuts\n",
    "- This is essentially what we plot in the 4 panel plots with 4 colours above, but for a more continuous range."
   ]
  },
  {
   "cell_type": "code",
   "execution_count": 29,
   "metadata": {
    "collapsed": false
   },
   "outputs": [],
   "source": [
    "# Here, we'll get all of the individual arc data into rows to map onto gz_data\n",
    "\n",
    "ids = sparcfire_g['dr8objid'][spiral_sample]\n",
    "\n",
    "arc_table_g = Table(names=('id','N','P','L','intensity','N_pixels','L_f'),\n",
    "                  dtype=(int,int,object,object,object,object,object))\n",
    "arc_table_r = Table(names=('id','N','P','L','intensity','N_pixels','L_f'),\n",
    "                  dtype=(int,int,object,object,object,object,object))\n",
    "\n",
    "for id_ in ids:\n",
    "    a = ArcLookup(id_)\n",
    "    chi_g = a.chirality(chi_g_array)\n",
    "    arc_list = a.arc_list(sparcfire_g_arcs,chi_g)\n",
    "    arc_table_g.add_row(arc_list)\n",
    "    \n",
    "for id_ in ids:\n",
    "    a = ArcLookup(id_)\n",
    "    chi_r = a.chirality(chi_r_array)\n",
    "    arc_list = a.arc_list(sparcfire_r_arcs,chi_r)\n",
    "    arc_table_r.add_row(arc_list)\n",
    "    \n",
    "arc_table_all_g = Table(np.zeros((len(gz2_data),7)),\n",
    "                        names=('id','N','P','L','intensity','N_pixels','L_f'),\n",
    "                        dtype=(int,int,object,object,object,object,object))\n",
    "arc_table_all_g[spiral_sample] = arc_table_g\n",
    "\n",
    "arc_table_all_r = Table(np.zeros((len(gz2_data),7)),\n",
    "                        names=('id','N','P','L','intensity','N_pixels','L_f'),\n",
    "                        dtype=(int,int,object,object,object,object,object))\n",
    "arc_table_all_r[spiral_sample] = arc_table_r"
   ]
  },
  {
   "cell_type": "code",
   "execution_count": 32,
   "metadata": {
    "collapsed": false
   },
   "outputs": [],
   "source": [
    "# Here, we are simply going over a range of possible L cuts (20-100) and find the best agreement in each case\n",
    "\n",
    "def measure_chi(x,y,logged=False,log=False):\n",
    "    if (logged is False) and (log is True):\n",
    "        x, y = np.log10(x), np.log10(y)    \n",
    "    elif (logged is True) and (log is False):\n",
    "        x, y = 10**(x), 10**(y)\n",
    "    ok = ((np.all([np.isfinite(x),np.isfinite(y)],axis=0) if log is True \n",
    "          else np.all([x>0,y>0],axis=0)))\n",
    "    \n",
    "    absolute_chi = np.absolute(x[ok]-y[ok])\n",
    "    chi_mean = np.mean(absolute_chi)\n",
    "    return chi_mean\n",
    "\n",
    "\n",
    "def find_best_px(x,function,pxs=np.linspace(20,100,81),log=False,\n",
    "                 return_values=False):\n",
    "    chi_array = np.empty(pxs.size)\n",
    "    for p, px in enumerate(pxs):\n",
    "        y = function(px)\n",
    "        chi = measure_chi(x,y,log=log)\n",
    "        chi_array[p] = chi\n",
    "    best_index = chi_array.argmin()\n",
    "    best_px = pxs[best_index]\n",
    "    if return_values is True:\n",
    "        return pxs, chi_array\n",
    "    else:\n",
    "        return best_px\n",
    "    \n",
    "x = spiral_statistics['m_wtd_avg']\n",
    "px_r, chi_r = find_best_px(x,ArcStats(arc_table_r).N_weighted_average,return_values=True)\n",
    "px_g, chi_g = find_best_px(x,ArcStats(arc_table_g).N_weighted_average,return_values=True)\n",
    "#px_absolute = find_best_px(x,ArcStats(arc_table).N_weighted_average)"
   ]
  },
  {
   "cell_type": "code",
   "execution_count": 38,
   "metadata": {
    "collapsed": false
   },
   "outputs": [
    {
     "data": {
      "text/plain": [
       "<matplotlib.legend.Legend at 0x2b1770e98f60>"
      ]
     },
     "execution_count": 38,
     "metadata": {},
     "output_type": "execute_result"
    },
    {
     "data": {
      "image/png": "[encoded data removed]",
      "text/plain": [
       "<matplotlib.figure.Figure at 0x2b1770e46518>"
      ]
     },
     "metadata": {},
     "output_type": "display_data"
    }
   ],
   "source": [
    "fig = plt.figure(figsize=(10,5))\n",
    "ax = plt.subplot(111)\n",
    "ax.set_xlim(20,100)\n",
    "\n",
    "_ = plt.plot(px_g,chi_g,color='g',lw=1,label='$g$')\n",
    "_ = plt.plot(px_r,chi_r,color='r',lw=2,linestyle='dashed',label='$r$')\n",
    "#_ = plt.axvline(px_absolute,color='k',lw=1,linestyle='dashed')\n",
    "ax.set_xlabel('$L_\\mathrm{min}$')\n",
    "ax.set_ylabel('$\\overline{|\\chi|}$')\n",
    "ax.legend()\n",
    "#fig.savefig('figures/measure_best_chi.pdf')\n",
    "\n",
    "#print(chi.min())"
   ]
  },
  {
   "cell_type": "code",
   "execution_count": null,
   "metadata": {
    "collapsed": true
   },
   "outputs": [],
   "source": []
  }
 ],
 "metadata": {
  "kernelspec": {
   "display_name": "Python 3",
   "language": "python",
   "name": "python3"
  },
  "language_info": {
   "codemirror_mode": {
    "name": "ipython",
    "version": 3
   },
   "file_extension": ".py",
   "mimetype": "text/x-python",
   "name": "python",
   "nbconvert_exporter": "python",
   "pygments_lexer": "ipython3",
   "version": "3.4.5"
  }
 },
 "nbformat": 4,
 "nbformat_minor": 0
}
